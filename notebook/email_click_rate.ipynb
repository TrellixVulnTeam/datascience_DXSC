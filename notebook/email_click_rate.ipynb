{
 "cells": [
  {
   "cell_type": "code",
   "execution_count": null,
   "id": "36bc10cd",
   "metadata": {},
   "outputs": [],
   "source": [
    "import pandas as pd\n",
    "import numpy as np\n",
    "import seaborn as sns\n",
    "import matplotlib.pyplot as plt\n",
    "\n",
    "%matplotlib inline\n",
    "\n",
    "import warnings\n",
    "warnings.filterwarnings('ignore')"
   ]
  },
  {
   "cell_type": "markdown",
   "id": "357c716f",
   "metadata": {},
   "source": [
    "# Loading Training and Testing Data"
   ]
  },
  {
   "cell_type": "markdown",
   "id": "73e1bb39",
   "metadata": {},
   "source": [
    "## Train Data"
   ]
  },
  {
   "cell_type": "code",
   "execution_count": null,
   "id": "1ea756f3",
   "metadata": {},
   "outputs": [],
   "source": [
    "df_train = pd.read_csv(\"../data/Email/Email_train.csv\")\n",
    "pd.set_option('display.max_columns', None)\n",
    "df_train.head()"
   ]
  },
  {
   "cell_type": "code",
   "execution_count": null,
   "id": "cbd15565",
   "metadata": {},
   "outputs": [],
   "source": [
    "df_train.shape"
   ]
  },
  {
   "cell_type": "code",
   "execution_count": null,
   "id": "697be60c",
   "metadata": {},
   "outputs": [],
   "source": [
    "df_train.info()"
   ]
  },
  {
   "cell_type": "code",
   "execution_count": null,
   "id": "ee469f0c",
   "metadata": {},
   "outputs": [],
   "source": [
    "# Type of data present\n",
    "df_train.dtypes"
   ]
  },
  {
   "cell_type": "code",
   "execution_count": null,
   "id": "fa9a1b2b",
   "metadata": {},
   "outputs": [],
   "source": [
    "df_train.describe()"
   ]
  },
  {
   "cell_type": "code",
   "execution_count": null,
   "id": "ee25b5a4",
   "metadata": {},
   "outputs": [],
   "source": [
    "sns.pairplot(df_train)"
   ]
  },
  {
   "cell_type": "code",
   "execution_count": null,
   "id": "55a3624b",
   "metadata": {},
   "outputs": [],
   "source": [
    "df_train.ndim"
   ]
  },
  {
   "cell_type": "code",
   "execution_count": null,
   "id": "e8286c9a",
   "metadata": {},
   "outputs": [],
   "source": [
    "df_train.columns"
   ]
  },
  {
   "cell_type": "code",
   "execution_count": null,
   "id": "d3fbbc98",
   "metadata": {},
   "outputs": [],
   "source": [
    "df_train.size"
   ]
  },
  {
   "cell_type": "code",
   "execution_count": null,
   "id": "bec2a9f9",
   "metadata": {},
   "outputs": [],
   "source": [
    "# Null values\n",
    "df_train.isna().sum()"
   ]
  },
  {
   "cell_type": "markdown",
   "id": "d2ac8ec3",
   "metadata": {},
   "source": [
    "### No null values are present we can proceed with feature engineering"
   ]
  },
  {
   "cell_type": "code",
   "execution_count": null,
   "id": "1c662061",
   "metadata": {},
   "outputs": [],
   "source": [
    "df_train"
   ]
  },
  {
   "cell_type": "markdown",
   "id": "1e1b8b72",
   "metadata": {},
   "source": [
    "Removing the column campaign_id as it's just an id of the campaign which is not needed with the data"
   ]
  },
  {
   "cell_type": "code",
   "execution_count": null,
   "id": "4cec0545",
   "metadata": {},
   "outputs": [],
   "source": [
    "df_train.drop('campaign_id', axis=1, inplace=True)"
   ]
  },
  {
   "cell_type": "code",
   "execution_count": null,
   "id": "16370103",
   "metadata": {},
   "outputs": [],
   "source": [
    "df_train"
   ]
  },
  {
   "cell_type": "code",
   "execution_count": null,
   "id": "b8ddda00",
   "metadata": {},
   "outputs": [],
   "source": []
  },
  {
   "cell_type": "markdown",
   "id": "42548aff",
   "metadata": {},
   "source": [
    "There is only one column with categorical data converting the data to numerical using encoding method"
   ]
  },
  {
   "cell_type": "code",
   "execution_count": null,
   "id": "6df162e2",
   "metadata": {},
   "outputs": [],
   "source": [
    "from sklearn.preprocessing import OneHotEncoder\n",
    "le = OneHotEncoder()"
   ]
  },
  {
   "cell_type": "code",
   "execution_count": null,
   "id": "fbd10399",
   "metadata": {},
   "outputs": [],
   "source": [
    "df_train['times_of_day'] = le.fit_transform(df_train['times_of_day'])"
   ]
  },
  {
   "cell_type": "code",
   "execution_count": null,
   "id": "cf975184",
   "metadata": {},
   "outputs": [],
   "source": [
    "df_train"
   ]
  },
  {
   "cell_type": "markdown",
   "id": "827f1757",
   "metadata": {},
   "source": [
    "## Analysing"
   ]
  },
  {
   "cell_type": "code",
   "execution_count": null,
   "id": "e4530d58",
   "metadata": {},
   "outputs": [],
   "source": [
    "plt.scatter(df_train['times_of_day'], df_train['click_rate'])\n",
    "plt.xlabel('Day')\n",
    "plt.ylabel('Click Rate');"
   ]
  },
  {
   "cell_type": "code",
   "execution_count": null,
   "id": "022310db",
   "metadata": {},
   "outputs": [],
   "source": [
    "sns.regplot(x='subject_len', y='click_rate', data=df_train)\n",
    "plt.xlabel(\"Subject Text length\")\n",
    "plt.ylabel(\"Click Rate\")\n",
    "plt.title(\"Customer Click Rate according to the length of Subject\");"
   ]
  },
  {
   "cell_type": "markdown",
   "id": "9765dfbe",
   "metadata": {},
   "source": [
    "As subject text length increases the click rate decreases"
   ]
  },
  {
   "cell_type": "code",
   "execution_count": null,
   "id": "8bdcf735",
   "metadata": {},
   "outputs": [],
   "source": [
    "sns.regplot(x='body_len', y='click_rate', data=df_train)\n",
    "plt.xlabel(\"Body length\")\n",
    "plt.ylabel(\"Click Rate\")\n",
    "plt.title(\"Customer Click Rate with respect to Body length\");"
   ]
  },
  {
   "cell_type": "markdown",
   "id": "33cc3365",
   "metadata": {},
   "source": [
    "As body length increases the click rate decreases"
   ]
  },
  {
   "cell_type": "code",
   "execution_count": null,
   "id": "41bddcfd",
   "metadata": {},
   "outputs": [],
   "source": [
    "sns.regplot(x='product', y='click_rate', data=df_train)\n",
    "plt.xlabel(\"Product\")\n",
    "plt.ylabel(\"Click Rate\")\n",
    "plt.title(\"Customer Click Rate with respect to Product\");"
   ]
  },
  {
   "cell_type": "markdown",
   "id": "cd83b2f4",
   "metadata": {},
   "source": [
    "There is an increase in click rate as their is more product is advertised"
   ]
  },
  {
   "cell_type": "code",
   "execution_count": null,
   "id": "d32b0e9d",
   "metadata": {},
   "outputs": [],
   "source": [
    "sns.regplot(x='times_of_day', y='click_rate', data=df_train)\n",
    "plt.xlabel(\"Time of Day\")\n",
    "plt.ylabel(\"Click Rate\")\n",
    "plt.title(\"Customer Click Rate with respect to Time of Day\");"
   ]
  },
  {
   "cell_type": "markdown",
   "id": "dafe0470",
   "metadata": {},
   "source": [
    "In evening users are more likely to click on the advertised mail"
   ]
  },
  {
   "cell_type": "code",
   "execution_count": null,
   "id": "fde96fae",
   "metadata": {},
   "outputs": [],
   "source": [
    "sns.regplot(x='category', y='click_rate', data=df_train)\n",
    "plt.xlabel(\"Category\")\n",
    "plt.ylabel(\"Click Rate\")\n",
    "plt.title(\"Customer Click Rate with respect to Category\");"
   ]
  },
  {
   "cell_type": "markdown",
   "id": "230a8db4",
   "metadata": {},
   "source": [
    "With category also as categories increases click rate decreases."
   ]
  },
  {
   "cell_type": "code",
   "execution_count": null,
   "id": "4c7eec4e",
   "metadata": {},
   "outputs": [],
   "source": [
    "sns.regplot(x='is_weekend', y='click_rate', data=df_train)\n",
    "plt.xlabel(\"Weekend\")\n",
    "plt.ylabel(\"Click Rate\")\n",
    "plt.title(\"Customer Click Rate with respect to Weekend\");"
   ]
  },
  {
   "cell_type": "markdown",
   "id": "bb12ff9f",
   "metadata": {},
   "source": [
    "On weekdays users are more likely to click on the email "
   ]
  },
  {
   "cell_type": "code",
   "execution_count": null,
   "id": "f63eed7f",
   "metadata": {},
   "outputs": [],
   "source": [
    "sns.regplot(x='target_audience', y='click_rate', data=df_train)\n",
    "plt.xlabel(\"Audenice\")\n",
    "plt.ylabel(\"Click Rate\")\n",
    "plt.title(\"Customer Click Rate with respect to Audience\");"
   ]
  },
  {
   "cell_type": "markdown",
   "id": "b8e8c26c",
   "metadata": {},
   "source": [
    "There is an increase in click rate as our target audience increases"
   ]
  },
  {
   "cell_type": "markdown",
   "id": "5e3bf610",
   "metadata": {},
   "source": [
    "From the above graphs we can conclude that if we increase our target audience, send more mails on weekdays, send more mails in evening, increase the number of products advertised and reduce the categories we can increase the email click rate."
   ]
  },
  {
   "cell_type": "markdown",
   "id": "0e0aa267",
   "metadata": {},
   "source": [
    "## Modelling"
   ]
  },
  {
   "cell_type": "code",
   "execution_count": null,
   "id": "af36a8f9",
   "metadata": {},
   "outputs": [],
   "source": [
    "# Dividing independant and dependant features\n",
    "X = df_train.iloc[:, :-1]\n",
    "y = df_train.iloc[:, -1]"
   ]
  },
  {
   "cell_type": "code",
   "execution_count": null,
   "id": "2b32b7f5",
   "metadata": {},
   "outputs": [],
   "source": [
    "X"
   ]
  },
  {
   "cell_type": "code",
   "execution_count": null,
   "id": "e7e65699",
   "metadata": {},
   "outputs": [],
   "source": [
    "# Train Test Split\n",
    "from sklearn.model_selection import train_test_split\n",
    "X_train, X_test, y_train, y_test = train_test_split(X, y, test_size=0.3, random_state=42)"
   ]
  },
  {
   "cell_type": "code",
   "execution_count": null,
   "id": "5570873d",
   "metadata": {},
   "outputs": [],
   "source": [
    "X_train"
   ]
  },
  {
   "cell_type": "code",
   "execution_count": null,
   "id": "056febe5",
   "metadata": {},
   "outputs": [],
   "source": [
    "X_test"
   ]
  },
  {
   "cell_type": "code",
   "execution_count": null,
   "id": "0f8b6e0e",
   "metadata": {},
   "outputs": [],
   "source": [
    "# Standardize the dataset\n",
    "from sklearn.preprocessing import StandardScaler\n",
    "scaler = StandardScaler()"
   ]
  },
  {
   "cell_type": "code",
   "execution_count": null,
   "id": "2ef9c09a",
   "metadata": {},
   "outputs": [],
   "source": [
    "# Fitting and transforming the X_train\n",
    "X_train = scaler.fit_transform(X_train)"
   ]
  },
  {
   "cell_type": "code",
   "execution_count": null,
   "id": "60a938dd",
   "metadata": {},
   "outputs": [],
   "source": [
    "# Transforming the X_train\n",
    "X_test = scaler.transform(X_test)"
   ]
  },
  {
   "cell_type": "code",
   "execution_count": null,
   "id": "b75bd77b",
   "metadata": {},
   "outputs": [],
   "source": [
    "import pickle\n",
    "pickle.dump(scaler, open('scaling.pkl', 'wb'))"
   ]
  },
  {
   "cell_type": "code",
   "execution_count": null,
   "id": "0bb12e20",
   "metadata": {},
   "outputs": [],
   "source": [
    "X_train"
   ]
  },
  {
   "cell_type": "code",
   "execution_count": null,
   "id": "bc56d5d9",
   "metadata": {},
   "outputs": [],
   "source": [
    "X_test"
   ]
  },
  {
   "cell_type": "markdown",
   "id": "2629d88b",
   "metadata": {},
   "source": [
    "### Model Training"
   ]
  },
  {
   "cell_type": "code",
   "execution_count": null,
   "id": "abe77262",
   "metadata": {},
   "outputs": [],
   "source": [
    "from sklearn.ensemble import AdaBoostRegressor, BaggingRegressor, ExtraTreesRegressor, GradientBoostingRegressor"
   ]
  },
  {
   "cell_type": "code",
   "execution_count": null,
   "id": "7e0e6c41",
   "metadata": {},
   "outputs": [],
   "source": [
    "models = {\"adaboost\": LinearRegression(),\n",
    "         \"bagging\": ARDRegression(),\n",
    "         \"huberregression\": HuberRegressor(),\n",
    "         \"posionregression\": PoissonRegressor(),\n",
    "         \"sgdregression\": SGDRegressor()}\n",
    "\n",
    "def fit_and_score(models, X_train, X_test, y_train, y_test):\n",
    "    \"\"\"\n",
    "    Fits and evaluates given machine learning models.\n",
    "    model : a dict of different Scikit-Learn machine learning models.\n",
    "    X_train: Training data (No labels)\n",
    "    X_test: Testing data (No labels)\n",
    "    y_train: training labels\n",
    "    y_test: training labels\n",
    "    \"\"\"\n",
    "    # Set random seed\n",
    "    np.random.seed(42)\n",
    "    # Make a dictionary to keep model scores\n",
    "    model_scores = {}\n",
    "    # Loop through models\n",
    "    for name, model in models.items():\n",
    "        # Fit the model to the data\n",
    "        model.fit(X_train, y_train)\n",
    "        # Evaluate the model and append its score to model_scores\n",
    "        # Here name is the ML model name and \"model\" is actual ML model\n",
    "        model_scores[name] = model.score(X_test, y_test)\n",
    "    return model_scores\n"
   ]
  },
  {
   "cell_type": "code",
   "execution_count": null,
   "id": "a63fcdbc",
   "metadata": {},
   "outputs": [],
   "source": [
    "model_score = fit_and_score(models = models,\n",
    "                           X_train = X_train,\n",
    "                           X_test = X_test,\n",
    "                           y_train = y_train,\n",
    "                           y_test = y_test)\n",
    "\n",
    "model_score"
   ]
  },
  {
   "cell_type": "code",
   "execution_count": null,
   "id": "8beb82fa",
   "metadata": {},
   "outputs": [],
   "source": [
    "# Coefficient\n",
    "poisson.coef_"
   ]
  },
  {
   "cell_type": "code",
   "execution_count": null,
   "id": "661e8394",
   "metadata": {},
   "outputs": [],
   "source": [
    "print(poisson.intercept_)"
   ]
  },
  {
   "cell_type": "code",
   "execution_count": null,
   "id": "1f4aeae2",
   "metadata": {},
   "outputs": [],
   "source": [
    "## On which parameters model is trained\n",
    "poisson.get_params()"
   ]
  },
  {
   "cell_type": "code",
   "execution_count": null,
   "id": "c2c2769f",
   "metadata": {},
   "outputs": [],
   "source": [
    "## Prediction with test data\n",
    "reg_pred = poisson.predict(X_test)"
   ]
  },
  {
   "cell_type": "code",
   "execution_count": null,
   "id": "d7eb942f",
   "metadata": {},
   "outputs": [],
   "source": [
    "reg_pred"
   ]
  },
  {
   "cell_type": "code",
   "execution_count": null,
   "id": "90d567d0",
   "metadata": {},
   "outputs": [],
   "source": [
    "## Scatter plot for prediction\n",
    "plt.scatter(y_test, reg_pred)"
   ]
  },
  {
   "cell_type": "code",
   "execution_count": null,
   "id": "9ccb1f45",
   "metadata": {},
   "outputs": [],
   "source": [
    "# Errors\n",
    "residual = y_test - reg_pred\n",
    "residual"
   ]
  },
  {
   "cell_type": "code",
   "execution_count": null,
   "id": "326e2748",
   "metadata": {},
   "outputs": [],
   "source": [
    "## Prediction with residuals\n",
    "sns.displot(residual, kind=\"kde\");"
   ]
  },
  {
   "cell_type": "code",
   "execution_count": null,
   "id": "29821c0d",
   "metadata": {},
   "outputs": [],
   "source": [
    "# reg_pred Scatter plot with respect to residual\n",
    "plt.scatter(reg_pred, residual);"
   ]
  },
  {
   "cell_type": "code",
   "execution_count": null,
   "id": "8fc675c9",
   "metadata": {},
   "outputs": [],
   "source": [
    "from sklearn.metrics import mean_squared_error, mean_absolute_error\n",
    "print(mean_absolute_error(y_test, reg_pred))\n",
    "print(mean_squared_error(y_test, reg_pred))\n",
    "print(np.sqrt(mean_squared_error(y_test, reg_pred)))"
   ]
  },
  {
   "cell_type": "code",
   "execution_count": null,
   "id": "a054eae4",
   "metadata": {},
   "outputs": [],
   "source": [
    "from sklearn.metrics import r2_score\n",
    "score = r2_score(y_test, reg_pred)\n",
    "print(score)"
   ]
  },
  {
   "cell_type": "code",
   "execution_count": null,
   "id": "b0c97d4a",
   "metadata": {},
   "outputs": [],
   "source": []
  }
 ],
 "metadata": {
  "kernelspec": {
   "display_name": "Python 3 (ipykernel)",
   "language": "python",
   "name": "python3"
  },
  "language_info": {
   "codemirror_mode": {
    "name": "ipython",
    "version": 3
   },
   "file_extension": ".py",
   "mimetype": "text/x-python",
   "name": "python",
   "nbconvert_exporter": "python",
   "pygments_lexer": "ipython3",
   "version": "3.10.7"
  }
 },
 "nbformat": 4,
 "nbformat_minor": 5
}
