{
 "cells": [
  {
   "cell_type": "code",
   "execution_count": null,
   "id": "2f09ec9d",
   "metadata": {},
   "outputs": [],
   "source": [
    "import requests\n",
    "from bs4 import BeautifulSoup\n",
    "import pandas as pd\n",
    "\n",
    "data = []\n",
    "\n",
    "n_pages = 0\n",
    "for page in range(1,15):\n",
    "    n_pages+=1\n",
    "    res = requests.get(f\"https://www.flipkart.com/search?q={lst}+mobiles&sid=tyy%2C4io&as=on&as-show=on&otracker=AS_QueryStore_OrganicAutoSuggest_1_2_na_na_ps&otracker1=AS_QueryStore_OrganicAutoSuggest_1_2_na_na_ps&as-pos=1&as-type=RECENT&suggestionId=samsung+mobiles%7CMobiles&equestId=346f99ae-2791-4d89-b63a-2e4af06e0a63&page=\"+str(page))\n",
    "    soup = BeautifulSoup(res.content, 'html.parser')\n",
    "    mobile_data = soup.select('a:-soup-contains(\"Add to Compare\")')\n",
    "    \n",
    "    for e in mobile_data:\n",
    "        prices = list(e.select_one('div.row div.col + div.col > div').stripped_strings)\n",
    "\n",
    "        data.append({\n",
    "            'title':e.select_one('div.row div.col > div').text,\n",
    "            'price_actual':prices[0][1:],\n",
    "            'price':prices[2] if len(prices) >= 2 else prices[0][1:],\n",
    "            'features':list(e.ul.stripped_strings),\n",
    "            'discount': e.select_one('div.row div.col + div.col span').text.split('%')[0] if e.select_one('div.row div.col + div.col span') else None,\n",
    "            'stars': e.select_one('[id^=\"productRating\"]').text if e.select_one('[id^=\"productRating\"]') else None,\n",
    "            'ratings':e.select_one('span:-soup-contains(\"Ratings\")').text.split()[0] if e.select_one('span:-soup-contains(\"Ratings\")') else None\n",
    "            }\n",
    "        )\n",
    "pd.DataFrame(data)"
   ]
  }
 ],
 "metadata": {
  "kernelspec": {
   "display_name": "Python 3 (ipykernel)",
   "language": "python",
   "name": "python3"
  },
  "language_info": {
   "codemirror_mode": {
    "name": "ipython",
    "version": 3
   },
   "file_extension": ".py",
   "mimetype": "text/x-python",
   "name": "python",
   "nbconvert_exporter": "python",
   "pygments_lexer": "ipython3",
   "version": "3.9.2"
  }
 },
 "nbformat": 4,
 "nbformat_minor": 5
}
