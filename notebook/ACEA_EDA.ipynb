{
 "cells": [
  {
   "cell_type": "markdown",
   "id": "524b9800",
   "metadata": {},
   "source": [
    "This notebook contains simple EDA and Visualization with respect to rainfall in each of the Aquifer"
   ]
  },
  {
   "cell_type": "code",
   "execution_count": 29,
   "id": "ab4dab7d",
   "metadata": {},
   "outputs": [],
   "source": [
    "import pandas as pd\n",
    "import numpy as np\n",
    "import plotly.express as px\n",
    "import seaborn as sns\n",
    "import matplotlib.pyplot as plt\n",
    "import datetime\n",
    "import calendar\n",
    "\n",
    "\n",
    "%matplotlib inline"
   ]
  },
  {
   "cell_type": "code",
   "execution_count": 2,
   "id": "b12a1e65",
   "metadata": {},
   "outputs": [
    {
     "name": "stdout",
     "output_type": "stream",
     "text": [
      "../data/ACEA_Water/Aquifer_Auser.csv\n",
      "../data/ACEA_Water/Aquifer_Doganella.csv\n",
      "../data/ACEA_Water/Aquifer_Luco.csv\n",
      "../data/ACEA_Water/Aquifer_Petrignano.csv\n",
      "../data/ACEA_Water/Lake_Bilancino.csv\n",
      "../data/ACEA_Water/River_Arno.csv\n",
      "../data/ACEA_Water/Water_Spring_Amiata.csv\n",
      "../data/ACEA_Water/Water_Spring_Lupa.csv\n",
      "../data/ACEA_Water/Water_Spring_Madonna_di_Canneto.csv\n"
     ]
    }
   ],
   "source": [
    "import os\n",
    "\n",
    "for dirname, direc, filename in os.walk('../data/ACEA_Water/'):\n",
    "    for file in filename:\n",
    "        fullpath = os.path.join(dirname, file)\n",
    "        print(fullpath)"
   ]
  },
  {
   "cell_type": "markdown",
   "id": "1f5837c4",
   "metadata": {},
   "source": [
    "# EDA and Visualization"
   ]
  },
  {
   "cell_type": "markdown",
   "id": "a0122ff4",
   "metadata": {},
   "source": [
    "## <a id='auser'>Auser</a>"
   ]
  },
  {
   "cell_type": "code",
   "execution_count": 4,
   "id": "6627a33f",
   "metadata": {},
   "outputs": [
    {
     "data": {
      "text/html": [
       "<div>\n",
       "<style scoped>\n",
       "    .dataframe tbody tr th:only-of-type {\n",
       "        vertical-align: middle;\n",
       "    }\n",
       "\n",
       "    .dataframe tbody tr th {\n",
       "        vertical-align: top;\n",
       "    }\n",
       "\n",
       "    .dataframe thead th {\n",
       "        text-align: right;\n",
       "    }\n",
       "</style>\n",
       "<table border=\"1\" class=\"dataframe\">\n",
       "  <thead>\n",
       "    <tr style=\"text-align: right;\">\n",
       "      <th></th>\n",
       "      <th>Date</th>\n",
       "      <th>Rainfall_Gallicano</th>\n",
       "      <th>Rainfall_Pontetetto</th>\n",
       "      <th>Rainfall_Monte_Serra</th>\n",
       "      <th>Rainfall_Orentano</th>\n",
       "      <th>Rainfall_Borgo_a_Mozzano</th>\n",
       "      <th>Rainfall_Piaggione</th>\n",
       "      <th>Rainfall_Calavorno</th>\n",
       "      <th>Rainfall_Croce_Arcana</th>\n",
       "      <th>Rainfall_Tereglio_Coreglia_Antelminelli</th>\n",
       "      <th>Rainfall_Fabbriche_di_Vallico</th>\n",
       "      <th>Depth_to_Groundwater_LT2</th>\n",
       "      <th>Depth_to_Groundwater_SAL</th>\n",
       "      <th>Depth_to_Groundwater_PAG</th>\n",
       "      <th>Depth_to_Groundwater_CoS</th>\n",
       "      <th>Depth_to_Groundwater_DIEC</th>\n",
       "      <th>Temperature_Orentano</th>\n",
       "      <th>Temperature_Monte_Serra</th>\n",
       "      <th>Temperature_Ponte_a_Moriano</th>\n",
       "      <th>Temperature_Lucca_Orto_Botanico</th>\n",
       "      <th>Volume_POL</th>\n",
       "      <th>Volume_CC1</th>\n",
       "      <th>Volume_CC2</th>\n",
       "      <th>Volume_CSA</th>\n",
       "      <th>Volume_CSAL</th>\n",
       "      <th>Hydrometry_Monte_S_Quirico</th>\n",
       "      <th>Hydrometry_Piaggione</th>\n",
       "    </tr>\n",
       "  </thead>\n",
       "  <tbody>\n",
       "    <tr>\n",
       "      <th>0</th>\n",
       "      <td>05/03/1998</td>\n",
       "      <td>NaN</td>\n",
       "      <td>NaN</td>\n",
       "      <td>NaN</td>\n",
       "      <td>NaN</td>\n",
       "      <td>NaN</td>\n",
       "      <td>NaN</td>\n",
       "      <td>NaN</td>\n",
       "      <td>NaN</td>\n",
       "      <td>NaN</td>\n",
       "      <td>NaN</td>\n",
       "      <td>NaN</td>\n",
       "      <td>NaN</td>\n",
       "      <td>NaN</td>\n",
       "      <td>NaN</td>\n",
       "      <td>NaN</td>\n",
       "      <td>0.0</td>\n",
       "      <td>0.0</td>\n",
       "      <td>0.0</td>\n",
       "      <td>0.00</td>\n",
       "      <td>NaN</td>\n",
       "      <td>NaN</td>\n",
       "      <td>NaN</td>\n",
       "      <td>NaN</td>\n",
       "      <td>NaN</td>\n",
       "      <td>NaN</td>\n",
       "      <td>NaN</td>\n",
       "    </tr>\n",
       "    <tr>\n",
       "      <th>1</th>\n",
       "      <td>06/03/1998</td>\n",
       "      <td>NaN</td>\n",
       "      <td>NaN</td>\n",
       "      <td>NaN</td>\n",
       "      <td>NaN</td>\n",
       "      <td>NaN</td>\n",
       "      <td>NaN</td>\n",
       "      <td>NaN</td>\n",
       "      <td>NaN</td>\n",
       "      <td>NaN</td>\n",
       "      <td>NaN</td>\n",
       "      <td>NaN</td>\n",
       "      <td>NaN</td>\n",
       "      <td>NaN</td>\n",
       "      <td>NaN</td>\n",
       "      <td>NaN</td>\n",
       "      <td>0.0</td>\n",
       "      <td>0.0</td>\n",
       "      <td>0.0</td>\n",
       "      <td>10.05</td>\n",
       "      <td>NaN</td>\n",
       "      <td>NaN</td>\n",
       "      <td>NaN</td>\n",
       "      <td>NaN</td>\n",
       "      <td>NaN</td>\n",
       "      <td>NaN</td>\n",
       "      <td>NaN</td>\n",
       "    </tr>\n",
       "    <tr>\n",
       "      <th>2</th>\n",
       "      <td>07/03/1998</td>\n",
       "      <td>NaN</td>\n",
       "      <td>NaN</td>\n",
       "      <td>NaN</td>\n",
       "      <td>NaN</td>\n",
       "      <td>NaN</td>\n",
       "      <td>NaN</td>\n",
       "      <td>NaN</td>\n",
       "      <td>NaN</td>\n",
       "      <td>NaN</td>\n",
       "      <td>NaN</td>\n",
       "      <td>NaN</td>\n",
       "      <td>NaN</td>\n",
       "      <td>NaN</td>\n",
       "      <td>NaN</td>\n",
       "      <td>NaN</td>\n",
       "      <td>0.0</td>\n",
       "      <td>9.2</td>\n",
       "      <td>0.0</td>\n",
       "      <td>10.00</td>\n",
       "      <td>NaN</td>\n",
       "      <td>NaN</td>\n",
       "      <td>NaN</td>\n",
       "      <td>NaN</td>\n",
       "      <td>NaN</td>\n",
       "      <td>NaN</td>\n",
       "      <td>NaN</td>\n",
       "    </tr>\n",
       "    <tr>\n",
       "      <th>3</th>\n",
       "      <td>08/03/1998</td>\n",
       "      <td>NaN</td>\n",
       "      <td>NaN</td>\n",
       "      <td>NaN</td>\n",
       "      <td>NaN</td>\n",
       "      <td>NaN</td>\n",
       "      <td>NaN</td>\n",
       "      <td>NaN</td>\n",
       "      <td>NaN</td>\n",
       "      <td>NaN</td>\n",
       "      <td>NaN</td>\n",
       "      <td>NaN</td>\n",
       "      <td>NaN</td>\n",
       "      <td>NaN</td>\n",
       "      <td>NaN</td>\n",
       "      <td>NaN</td>\n",
       "      <td>0.0</td>\n",
       "      <td>11.4</td>\n",
       "      <td>0.0</td>\n",
       "      <td>13.85</td>\n",
       "      <td>NaN</td>\n",
       "      <td>NaN</td>\n",
       "      <td>NaN</td>\n",
       "      <td>NaN</td>\n",
       "      <td>NaN</td>\n",
       "      <td>NaN</td>\n",
       "      <td>NaN</td>\n",
       "    </tr>\n",
       "    <tr>\n",
       "      <th>4</th>\n",
       "      <td>09/03/1998</td>\n",
       "      <td>NaN</td>\n",
       "      <td>NaN</td>\n",
       "      <td>NaN</td>\n",
       "      <td>NaN</td>\n",
       "      <td>NaN</td>\n",
       "      <td>NaN</td>\n",
       "      <td>NaN</td>\n",
       "      <td>NaN</td>\n",
       "      <td>NaN</td>\n",
       "      <td>NaN</td>\n",
       "      <td>NaN</td>\n",
       "      <td>NaN</td>\n",
       "      <td>NaN</td>\n",
       "      <td>NaN</td>\n",
       "      <td>NaN</td>\n",
       "      <td>0.0</td>\n",
       "      <td>11.4</td>\n",
       "      <td>0.0</td>\n",
       "      <td>12.85</td>\n",
       "      <td>NaN</td>\n",
       "      <td>NaN</td>\n",
       "      <td>NaN</td>\n",
       "      <td>NaN</td>\n",
       "      <td>NaN</td>\n",
       "      <td>NaN</td>\n",
       "      <td>NaN</td>\n",
       "    </tr>\n",
       "  </tbody>\n",
       "</table>\n",
       "</div>"
      ],
      "text/plain": [
       "         Date  Rainfall_Gallicano  Rainfall_Pontetetto  Rainfall_Monte_Serra  \\\n",
       "0  05/03/1998                 NaN                  NaN                   NaN   \n",
       "1  06/03/1998                 NaN                  NaN                   NaN   \n",
       "2  07/03/1998                 NaN                  NaN                   NaN   \n",
       "3  08/03/1998                 NaN                  NaN                   NaN   \n",
       "4  09/03/1998                 NaN                  NaN                   NaN   \n",
       "\n",
       "   Rainfall_Orentano  Rainfall_Borgo_a_Mozzano  Rainfall_Piaggione  \\\n",
       "0                NaN                       NaN                 NaN   \n",
       "1                NaN                       NaN                 NaN   \n",
       "2                NaN                       NaN                 NaN   \n",
       "3                NaN                       NaN                 NaN   \n",
       "4                NaN                       NaN                 NaN   \n",
       "\n",
       "   Rainfall_Calavorno  Rainfall_Croce_Arcana  \\\n",
       "0                 NaN                    NaN   \n",
       "1                 NaN                    NaN   \n",
       "2                 NaN                    NaN   \n",
       "3                 NaN                    NaN   \n",
       "4                 NaN                    NaN   \n",
       "\n",
       "   Rainfall_Tereglio_Coreglia_Antelminelli  Rainfall_Fabbriche_di_Vallico  \\\n",
       "0                                      NaN                            NaN   \n",
       "1                                      NaN                            NaN   \n",
       "2                                      NaN                            NaN   \n",
       "3                                      NaN                            NaN   \n",
       "4                                      NaN                            NaN   \n",
       "\n",
       "   Depth_to_Groundwater_LT2  Depth_to_Groundwater_SAL  \\\n",
       "0                       NaN                       NaN   \n",
       "1                       NaN                       NaN   \n",
       "2                       NaN                       NaN   \n",
       "3                       NaN                       NaN   \n",
       "4                       NaN                       NaN   \n",
       "\n",
       "   Depth_to_Groundwater_PAG  Depth_to_Groundwater_CoS  \\\n",
       "0                       NaN                       NaN   \n",
       "1                       NaN                       NaN   \n",
       "2                       NaN                       NaN   \n",
       "3                       NaN                       NaN   \n",
       "4                       NaN                       NaN   \n",
       "\n",
       "   Depth_to_Groundwater_DIEC  Temperature_Orentano  Temperature_Monte_Serra  \\\n",
       "0                        NaN                   0.0                      0.0   \n",
       "1                        NaN                   0.0                      0.0   \n",
       "2                        NaN                   0.0                      9.2   \n",
       "3                        NaN                   0.0                     11.4   \n",
       "4                        NaN                   0.0                     11.4   \n",
       "\n",
       "   Temperature_Ponte_a_Moriano  Temperature_Lucca_Orto_Botanico  Volume_POL  \\\n",
       "0                          0.0                             0.00         NaN   \n",
       "1                          0.0                            10.05         NaN   \n",
       "2                          0.0                            10.00         NaN   \n",
       "3                          0.0                            13.85         NaN   \n",
       "4                          0.0                            12.85         NaN   \n",
       "\n",
       "   Volume_CC1  Volume_CC2  Volume_CSA  Volume_CSAL  \\\n",
       "0         NaN         NaN         NaN          NaN   \n",
       "1         NaN         NaN         NaN          NaN   \n",
       "2         NaN         NaN         NaN          NaN   \n",
       "3         NaN         NaN         NaN          NaN   \n",
       "4         NaN         NaN         NaN          NaN   \n",
       "\n",
       "   Hydrometry_Monte_S_Quirico  Hydrometry_Piaggione  \n",
       "0                         NaN                   NaN  \n",
       "1                         NaN                   NaN  \n",
       "2                         NaN                   NaN  \n",
       "3                         NaN                   NaN  \n",
       "4                         NaN                   NaN  "
      ]
     },
     "execution_count": 4,
     "metadata": {},
     "output_type": "execute_result"
    }
   ],
   "source": [
    "pd.set_option('display.max_columns', None)\n",
    "aa = pd.read_csv(\"../data/ACEA_Water/Aquifer_Auser.csv\")"
   ]
  },
  {
   "cell_type": "code",
   "execution_count": 35,
   "id": "9b0c5c07",
   "metadata": {},
   "outputs": [],
   "source": [
    "aa['Month'] = aa['Date'].dt.month\n"
   ]
  },
  {
   "cell_type": "code",
   "execution_count": 36,
   "id": "35113315",
   "metadata": {},
   "outputs": [
    {
     "data": {
      "text/html": [
       "<div>\n",
       "<style scoped>\n",
       "    .dataframe tbody tr th:only-of-type {\n",
       "        vertical-align: middle;\n",
       "    }\n",
       "\n",
       "    .dataframe tbody tr th {\n",
       "        vertical-align: top;\n",
       "    }\n",
       "\n",
       "    .dataframe thead th {\n",
       "        text-align: right;\n",
       "    }\n",
       "</style>\n",
       "<table border=\"1\" class=\"dataframe\">\n",
       "  <thead>\n",
       "    <tr style=\"text-align: right;\">\n",
       "      <th></th>\n",
       "      <th>Date</th>\n",
       "      <th>Rainfall_Gallicano</th>\n",
       "      <th>Rainfall_Pontetetto</th>\n",
       "      <th>Rainfall_Monte_Serra</th>\n",
       "      <th>Rainfall_Orentano</th>\n",
       "      <th>Rainfall_Borgo_a_Mozzano</th>\n",
       "      <th>Rainfall_Piaggione</th>\n",
       "      <th>Rainfall_Calavorno</th>\n",
       "      <th>Rainfall_Croce_Arcana</th>\n",
       "      <th>Rainfall_Tereglio_Coreglia_Antelminelli</th>\n",
       "      <th>Rainfall_Fabbriche_di_Vallico</th>\n",
       "      <th>Depth_to_Groundwater_LT2</th>\n",
       "      <th>Depth_to_Groundwater_SAL</th>\n",
       "      <th>Depth_to_Groundwater_PAG</th>\n",
       "      <th>Depth_to_Groundwater_CoS</th>\n",
       "      <th>Depth_to_Groundwater_DIEC</th>\n",
       "      <th>Temperature_Orentano</th>\n",
       "      <th>Temperature_Monte_Serra</th>\n",
       "      <th>Temperature_Ponte_a_Moriano</th>\n",
       "      <th>Temperature_Lucca_Orto_Botanico</th>\n",
       "      <th>Volume_POL</th>\n",
       "      <th>Volume_CC1</th>\n",
       "      <th>Volume_CC2</th>\n",
       "      <th>Volume_CSA</th>\n",
       "      <th>Volume_CSAL</th>\n",
       "      <th>Hydrometry_Monte_S_Quirico</th>\n",
       "      <th>Hydrometry_Piaggione</th>\n",
       "      <th>Month</th>\n",
       "    </tr>\n",
       "  </thead>\n",
       "  <tbody>\n",
       "    <tr>\n",
       "      <th>0</th>\n",
       "      <td>1998-05-03</td>\n",
       "      <td>0.0</td>\n",
       "      <td>0.0</td>\n",
       "      <td>0.0</td>\n",
       "      <td>0.0</td>\n",
       "      <td>0.0</td>\n",
       "      <td>0.0</td>\n",
       "      <td>0.0</td>\n",
       "      <td>0.0</td>\n",
       "      <td>0.0</td>\n",
       "      <td>0.0</td>\n",
       "      <td>-13.04</td>\n",
       "      <td>-5.68</td>\n",
       "      <td>-1.97</td>\n",
       "      <td>-6.25</td>\n",
       "      <td>-4.06</td>\n",
       "      <td>0.0</td>\n",
       "      <td>0.0</td>\n",
       "      <td>0.0</td>\n",
       "      <td>0.00</td>\n",
       "      <td>-9728.571429</td>\n",
       "      <td>-16450.56</td>\n",
       "      <td>-12078.72</td>\n",
       "      <td>0.0</td>\n",
       "      <td>0.0</td>\n",
       "      <td>0.26</td>\n",
       "      <td>-0.28</td>\n",
       "      <td>5</td>\n",
       "    </tr>\n",
       "    <tr>\n",
       "      <th>1</th>\n",
       "      <td>1998-06-03</td>\n",
       "      <td>0.0</td>\n",
       "      <td>0.0</td>\n",
       "      <td>0.0</td>\n",
       "      <td>0.0</td>\n",
       "      <td>0.0</td>\n",
       "      <td>0.0</td>\n",
       "      <td>0.0</td>\n",
       "      <td>0.0</td>\n",
       "      <td>0.0</td>\n",
       "      <td>0.0</td>\n",
       "      <td>-13.04</td>\n",
       "      <td>-5.68</td>\n",
       "      <td>-1.97</td>\n",
       "      <td>-6.25</td>\n",
       "      <td>-4.06</td>\n",
       "      <td>0.0</td>\n",
       "      <td>0.0</td>\n",
       "      <td>0.0</td>\n",
       "      <td>10.05</td>\n",
       "      <td>-9728.571429</td>\n",
       "      <td>-16450.56</td>\n",
       "      <td>-12078.72</td>\n",
       "      <td>0.0</td>\n",
       "      <td>0.0</td>\n",
       "      <td>0.26</td>\n",
       "      <td>-0.28</td>\n",
       "      <td>6</td>\n",
       "    </tr>\n",
       "    <tr>\n",
       "      <th>2</th>\n",
       "      <td>1998-07-03</td>\n",
       "      <td>0.0</td>\n",
       "      <td>0.0</td>\n",
       "      <td>0.0</td>\n",
       "      <td>0.0</td>\n",
       "      <td>0.0</td>\n",
       "      <td>0.0</td>\n",
       "      <td>0.0</td>\n",
       "      <td>0.0</td>\n",
       "      <td>0.0</td>\n",
       "      <td>0.0</td>\n",
       "      <td>-13.04</td>\n",
       "      <td>-5.68</td>\n",
       "      <td>-1.97</td>\n",
       "      <td>-6.25</td>\n",
       "      <td>-4.06</td>\n",
       "      <td>0.0</td>\n",
       "      <td>9.2</td>\n",
       "      <td>0.0</td>\n",
       "      <td>10.00</td>\n",
       "      <td>-9728.571429</td>\n",
       "      <td>-16450.56</td>\n",
       "      <td>-12078.72</td>\n",
       "      <td>0.0</td>\n",
       "      <td>0.0</td>\n",
       "      <td>0.26</td>\n",
       "      <td>-0.28</td>\n",
       "      <td>7</td>\n",
       "    </tr>\n",
       "    <tr>\n",
       "      <th>3</th>\n",
       "      <td>1998-08-03</td>\n",
       "      <td>0.0</td>\n",
       "      <td>0.0</td>\n",
       "      <td>0.0</td>\n",
       "      <td>0.0</td>\n",
       "      <td>0.0</td>\n",
       "      <td>0.0</td>\n",
       "      <td>0.0</td>\n",
       "      <td>0.0</td>\n",
       "      <td>0.0</td>\n",
       "      <td>0.0</td>\n",
       "      <td>-13.04</td>\n",
       "      <td>-5.68</td>\n",
       "      <td>-1.97</td>\n",
       "      <td>-6.25</td>\n",
       "      <td>-4.06</td>\n",
       "      <td>0.0</td>\n",
       "      <td>11.4</td>\n",
       "      <td>0.0</td>\n",
       "      <td>13.85</td>\n",
       "      <td>-9728.571429</td>\n",
       "      <td>-16450.56</td>\n",
       "      <td>-12078.72</td>\n",
       "      <td>0.0</td>\n",
       "      <td>0.0</td>\n",
       "      <td>0.26</td>\n",
       "      <td>-0.28</td>\n",
       "      <td>8</td>\n",
       "    </tr>\n",
       "    <tr>\n",
       "      <th>4</th>\n",
       "      <td>1998-09-03</td>\n",
       "      <td>0.0</td>\n",
       "      <td>0.0</td>\n",
       "      <td>0.0</td>\n",
       "      <td>0.0</td>\n",
       "      <td>0.0</td>\n",
       "      <td>0.0</td>\n",
       "      <td>0.0</td>\n",
       "      <td>0.0</td>\n",
       "      <td>0.0</td>\n",
       "      <td>0.0</td>\n",
       "      <td>-13.04</td>\n",
       "      <td>-5.68</td>\n",
       "      <td>-1.97</td>\n",
       "      <td>-6.25</td>\n",
       "      <td>-4.06</td>\n",
       "      <td>0.0</td>\n",
       "      <td>11.4</td>\n",
       "      <td>0.0</td>\n",
       "      <td>12.85</td>\n",
       "      <td>-9728.571429</td>\n",
       "      <td>-16450.56</td>\n",
       "      <td>-12078.72</td>\n",
       "      <td>0.0</td>\n",
       "      <td>0.0</td>\n",
       "      <td>0.26</td>\n",
       "      <td>-0.28</td>\n",
       "      <td>9</td>\n",
       "    </tr>\n",
       "  </tbody>\n",
       "</table>\n",
       "</div>"
      ],
      "text/plain": [
       "        Date  Rainfall_Gallicano  Rainfall_Pontetetto  Rainfall_Monte_Serra  \\\n",
       "0 1998-05-03                 0.0                  0.0                   0.0   \n",
       "1 1998-06-03                 0.0                  0.0                   0.0   \n",
       "2 1998-07-03                 0.0                  0.0                   0.0   \n",
       "3 1998-08-03                 0.0                  0.0                   0.0   \n",
       "4 1998-09-03                 0.0                  0.0                   0.0   \n",
       "\n",
       "   Rainfall_Orentano  Rainfall_Borgo_a_Mozzano  Rainfall_Piaggione  \\\n",
       "0                0.0                       0.0                 0.0   \n",
       "1                0.0                       0.0                 0.0   \n",
       "2                0.0                       0.0                 0.0   \n",
       "3                0.0                       0.0                 0.0   \n",
       "4                0.0                       0.0                 0.0   \n",
       "\n",
       "   Rainfall_Calavorno  Rainfall_Croce_Arcana  \\\n",
       "0                 0.0                    0.0   \n",
       "1                 0.0                    0.0   \n",
       "2                 0.0                    0.0   \n",
       "3                 0.0                    0.0   \n",
       "4                 0.0                    0.0   \n",
       "\n",
       "   Rainfall_Tereglio_Coreglia_Antelminelli  Rainfall_Fabbriche_di_Vallico  \\\n",
       "0                                      0.0                            0.0   \n",
       "1                                      0.0                            0.0   \n",
       "2                                      0.0                            0.0   \n",
       "3                                      0.0                            0.0   \n",
       "4                                      0.0                            0.0   \n",
       "\n",
       "   Depth_to_Groundwater_LT2  Depth_to_Groundwater_SAL  \\\n",
       "0                    -13.04                     -5.68   \n",
       "1                    -13.04                     -5.68   \n",
       "2                    -13.04                     -5.68   \n",
       "3                    -13.04                     -5.68   \n",
       "4                    -13.04                     -5.68   \n",
       "\n",
       "   Depth_to_Groundwater_PAG  Depth_to_Groundwater_CoS  \\\n",
       "0                     -1.97                     -6.25   \n",
       "1                     -1.97                     -6.25   \n",
       "2                     -1.97                     -6.25   \n",
       "3                     -1.97                     -6.25   \n",
       "4                     -1.97                     -6.25   \n",
       "\n",
       "   Depth_to_Groundwater_DIEC  Temperature_Orentano  Temperature_Monte_Serra  \\\n",
       "0                      -4.06                   0.0                      0.0   \n",
       "1                      -4.06                   0.0                      0.0   \n",
       "2                      -4.06                   0.0                      9.2   \n",
       "3                      -4.06                   0.0                     11.4   \n",
       "4                      -4.06                   0.0                     11.4   \n",
       "\n",
       "   Temperature_Ponte_a_Moriano  Temperature_Lucca_Orto_Botanico   Volume_POL  \\\n",
       "0                          0.0                             0.00 -9728.571429   \n",
       "1                          0.0                            10.05 -9728.571429   \n",
       "2                          0.0                            10.00 -9728.571429   \n",
       "3                          0.0                            13.85 -9728.571429   \n",
       "4                          0.0                            12.85 -9728.571429   \n",
       "\n",
       "   Volume_CC1  Volume_CC2  Volume_CSA  Volume_CSAL  \\\n",
       "0   -16450.56   -12078.72         0.0          0.0   \n",
       "1   -16450.56   -12078.72         0.0          0.0   \n",
       "2   -16450.56   -12078.72         0.0          0.0   \n",
       "3   -16450.56   -12078.72         0.0          0.0   \n",
       "4   -16450.56   -12078.72         0.0          0.0   \n",
       "\n",
       "   Hydrometry_Monte_S_Quirico  Hydrometry_Piaggione  Month  \n",
       "0                        0.26                 -0.28      5  \n",
       "1                        0.26                 -0.28      6  \n",
       "2                        0.26                 -0.28      7  \n",
       "3                        0.26                 -0.28      8  \n",
       "4                        0.26                 -0.28      9  "
      ]
     },
     "execution_count": 36,
     "metadata": {},
     "output_type": "execute_result"
    }
   ],
   "source": [
    "aa.head()"
   ]
  },
  {
   "cell_type": "code",
   "execution_count": 25,
   "id": "51dd0d1e",
   "metadata": {},
   "outputs": [
    {
     "data": {
      "text/plain": [
       "Date                                       0\n",
       "Rainfall_Gallicano                         0\n",
       "Rainfall_Pontetetto                        0\n",
       "Rainfall_Monte_Serra                       0\n",
       "Rainfall_Orentano                          0\n",
       "Rainfall_Borgo_a_Mozzano                   0\n",
       "Rainfall_Piaggione                         0\n",
       "Rainfall_Calavorno                         0\n",
       "Rainfall_Croce_Arcana                      0\n",
       "Rainfall_Tereglio_Coreglia_Antelminelli    0\n",
       "Rainfall_Fabbriche_di_Vallico              0\n",
       "Depth_to_Groundwater_LT2                   0\n",
       "Depth_to_Groundwater_SAL                   0\n",
       "Depth_to_Groundwater_PAG                   0\n",
       "Depth_to_Groundwater_CoS                   0\n",
       "Depth_to_Groundwater_DIEC                  0\n",
       "Temperature_Orentano                       0\n",
       "Temperature_Monte_Serra                    0\n",
       "Temperature_Ponte_a_Moriano                0\n",
       "Temperature_Lucca_Orto_Botanico            0\n",
       "Volume_POL                                 0\n",
       "Volume_CC1                                 0\n",
       "Volume_CC2                                 0\n",
       "Volume_CSA                                 0\n",
       "Volume_CSAL                                0\n",
       "Hydrometry_Monte_S_Quirico                 0\n",
       "Hydrometry_Piaggione                       0\n",
       "Month                                      0\n",
       "dtype: int64"
      ]
     },
     "execution_count": 25,
     "metadata": {},
     "output_type": "execute_result"
    }
   ],
   "source": [
    "aa.isnull().sum()"
   ]
  },
  {
   "cell_type": "markdown",
   "id": "32ad4995",
   "metadata": {},
   "source": [
    "Handling missing values"
   ]
  },
  {
   "cell_type": "code",
   "execution_count": 10,
   "id": "d9a3a82b",
   "metadata": {},
   "outputs": [
    {
     "name": "stdout",
     "output_type": "stream",
     "text": [
      "Rainfall_Gallicano 0.351 % missing values\n",
      "Rainfall_Pontetetto 0.351 % missing values\n",
      "Rainfall_Monte_Serra 0.351 % missing values\n",
      "Rainfall_Orentano 0.351 % missing values\n",
      "Rainfall_Borgo_a_Mozzano 0.351 % missing values\n",
      "Rainfall_Piaggione 0.395 % missing values\n",
      "Rainfall_Calavorno 0.351 % missing values\n",
      "Rainfall_Croce_Arcana 0.351 % missing values\n",
      "Rainfall_Tereglio_Coreglia_Antelminelli 0.351 % missing values\n",
      "Rainfall_Fabbriche_di_Vallico 0.351 % missing values\n",
      "Depth_to_Groundwater_LT2 0.411 % missing values\n",
      "Depth_to_Groundwater_SAL 0.443 % missing values\n",
      "Depth_to_Groundwater_PAG 0.533 % missing values\n",
      "Depth_to_Groundwater_CoS 0.471 % missing values\n",
      "Depth_to_Groundwater_DIEC 0.599 % missing values\n",
      "Volume_POL 0.306 % missing values\n",
      "Volume_CC1 0.306 % missing values\n",
      "Volume_CC2 0.306 % missing values\n",
      "Volume_CSA 0.306 % missing values\n",
      "Volume_CSAL 0.306 % missing values\n",
      "Hydrometry_Monte_S_Quirico 0.112 % missing values\n",
      "Hydrometry_Piaggione 0.25 % missing values\n"
     ]
    }
   ],
   "source": [
    "missing_val = [features for features in aa.columns if aa[features].isnull().sum()>1]\n",
    "\n",
    "for feature in missing_val:\n",
    "    print(feature, np.round(aa[feature].isnull().mean(), 3), \"% missing values\")"
   ]
  },
  {
   "cell_type": "code",
   "execution_count": 11,
   "id": "812a7c75",
   "metadata": {},
   "outputs": [],
   "source": [
    "for feature in missing_val:\n",
    "    median_value=aa[feature].median()\n",
    "    aa[feature].fillna(median_value,inplace=True)"
   ]
  },
  {
   "cell_type": "code",
   "execution_count": 12,
   "id": "52b6adca",
   "metadata": {},
   "outputs": [
    {
     "data": {
      "text/plain": [
       "Date                                       0\n",
       "Rainfall_Gallicano                         0\n",
       "Rainfall_Pontetetto                        0\n",
       "Rainfall_Monte_Serra                       0\n",
       "Rainfall_Orentano                          0\n",
       "Rainfall_Borgo_a_Mozzano                   0\n",
       "Rainfall_Piaggione                         0\n",
       "Rainfall_Calavorno                         0\n",
       "Rainfall_Croce_Arcana                      0\n",
       "Rainfall_Tereglio_Coreglia_Antelminelli    0\n",
       "Rainfall_Fabbriche_di_Vallico              0\n",
       "Depth_to_Groundwater_LT2                   0\n",
       "Depth_to_Groundwater_SAL                   0\n",
       "Depth_to_Groundwater_PAG                   0\n",
       "Depth_to_Groundwater_CoS                   0\n",
       "Depth_to_Groundwater_DIEC                  0\n",
       "Temperature_Orentano                       0\n",
       "Temperature_Monte_Serra                    0\n",
       "Temperature_Ponte_a_Moriano                0\n",
       "Temperature_Lucca_Orto_Botanico            0\n",
       "Volume_POL                                 0\n",
       "Volume_CC1                                 0\n",
       "Volume_CC2                                 0\n",
       "Volume_CSA                                 0\n",
       "Volume_CSAL                                0\n",
       "Hydrometry_Monte_S_Quirico                 0\n",
       "Hydrometry_Piaggione                       0\n",
       "dtype: int64"
      ]
     },
     "execution_count": 12,
     "metadata": {},
     "output_type": "execute_result"
    }
   ],
   "source": [
    "aa.isnull().sum()"
   ]
  },
  {
   "cell_type": "code",
   "execution_count": 13,
   "id": "a146108a",
   "metadata": {},
   "outputs": [
    {
     "data": {
      "text/plain": [
       "Date                                       datetime64[ns]\n",
       "Rainfall_Gallicano                                float64\n",
       "Rainfall_Pontetetto                               float64\n",
       "Rainfall_Monte_Serra                              float64\n",
       "Rainfall_Orentano                                 float64\n",
       "Rainfall_Borgo_a_Mozzano                          float64\n",
       "Rainfall_Piaggione                                float64\n",
       "Rainfall_Calavorno                                float64\n",
       "Rainfall_Croce_Arcana                             float64\n",
       "Rainfall_Tereglio_Coreglia_Antelminelli           float64\n",
       "Rainfall_Fabbriche_di_Vallico                     float64\n",
       "Depth_to_Groundwater_LT2                          float64\n",
       "Depth_to_Groundwater_SAL                          float64\n",
       "Depth_to_Groundwater_PAG                          float64\n",
       "Depth_to_Groundwater_CoS                          float64\n",
       "Depth_to_Groundwater_DIEC                         float64\n",
       "Temperature_Orentano                              float64\n",
       "Temperature_Monte_Serra                           float64\n",
       "Temperature_Ponte_a_Moriano                       float64\n",
       "Temperature_Lucca_Orto_Botanico                   float64\n",
       "Volume_POL                                        float64\n",
       "Volume_CC1                                        float64\n",
       "Volume_CC2                                        float64\n",
       "Volume_CSA                                        float64\n",
       "Volume_CSAL                                       float64\n",
       "Hydrometry_Monte_S_Quirico                        float64\n",
       "Hydrometry_Piaggione                              float64\n",
       "dtype: object"
      ]
     },
     "execution_count": 13,
     "metadata": {},
     "output_type": "execute_result"
    }
   ],
   "source": [
    "aa.dtypes"
   ]
  },
  {
   "cell_type": "code",
   "execution_count": 14,
   "id": "4e3bd2dd",
   "metadata": {},
   "outputs": [
    {
     "data": {
      "text/html": [
       "<div>\n",
       "<style scoped>\n",
       "    .dataframe tbody tr th:only-of-type {\n",
       "        vertical-align: middle;\n",
       "    }\n",
       "\n",
       "    .dataframe tbody tr th {\n",
       "        vertical-align: top;\n",
       "    }\n",
       "\n",
       "    .dataframe thead th {\n",
       "        text-align: right;\n",
       "    }\n",
       "</style>\n",
       "<table border=\"1\" class=\"dataframe\">\n",
       "  <thead>\n",
       "    <tr style=\"text-align: right;\">\n",
       "      <th></th>\n",
       "      <th>Rainfall_Gallicano</th>\n",
       "      <th>Rainfall_Pontetetto</th>\n",
       "      <th>Rainfall_Monte_Serra</th>\n",
       "      <th>Rainfall_Orentano</th>\n",
       "      <th>Rainfall_Borgo_a_Mozzano</th>\n",
       "      <th>Rainfall_Piaggione</th>\n",
       "      <th>Rainfall_Calavorno</th>\n",
       "      <th>Rainfall_Croce_Arcana</th>\n",
       "      <th>Rainfall_Tereglio_Coreglia_Antelminelli</th>\n",
       "      <th>Rainfall_Fabbriche_di_Vallico</th>\n",
       "      <th>Depth_to_Groundwater_LT2</th>\n",
       "      <th>Depth_to_Groundwater_SAL</th>\n",
       "      <th>Depth_to_Groundwater_PAG</th>\n",
       "      <th>Depth_to_Groundwater_CoS</th>\n",
       "      <th>Depth_to_Groundwater_DIEC</th>\n",
       "      <th>Temperature_Orentano</th>\n",
       "      <th>Temperature_Monte_Serra</th>\n",
       "      <th>Temperature_Ponte_a_Moriano</th>\n",
       "      <th>Temperature_Lucca_Orto_Botanico</th>\n",
       "      <th>Volume_POL</th>\n",
       "      <th>Volume_CC1</th>\n",
       "      <th>Volume_CC2</th>\n",
       "      <th>Volume_CSA</th>\n",
       "      <th>Volume_CSAL</th>\n",
       "      <th>Hydrometry_Monte_S_Quirico</th>\n",
       "      <th>Hydrometry_Piaggione</th>\n",
       "    </tr>\n",
       "  </thead>\n",
       "  <tbody>\n",
       "    <tr>\n",
       "      <th>count</th>\n",
       "      <td>8154.000000</td>\n",
       "      <td>8154.000000</td>\n",
       "      <td>8154.000000</td>\n",
       "      <td>8154.000000</td>\n",
       "      <td>8154.000000</td>\n",
       "      <td>8154.000000</td>\n",
       "      <td>8154.000000</td>\n",
       "      <td>8154.000000</td>\n",
       "      <td>8154.000000</td>\n",
       "      <td>8154.000000</td>\n",
       "      <td>8154.000000</td>\n",
       "      <td>8154.000000</td>\n",
       "      <td>8154.000000</td>\n",
       "      <td>8154.000000</td>\n",
       "      <td>8154.000000</td>\n",
       "      <td>8154.000000</td>\n",
       "      <td>8154.000000</td>\n",
       "      <td>8154.000000</td>\n",
       "      <td>8154.000000</td>\n",
       "      <td>8154.000000</td>\n",
       "      <td>8154.000000</td>\n",
       "      <td>8154.000000</td>\n",
       "      <td>8154.000000</td>\n",
       "      <td>8154.000000</td>\n",
       "      <td>8154.000000</td>\n",
       "      <td>8154.000000</td>\n",
       "    </tr>\n",
       "    <tr>\n",
       "      <th>mean</th>\n",
       "      <td>3.213613</td>\n",
       "      <td>2.269855</td>\n",
       "      <td>2.542065</td>\n",
       "      <td>2.045965</td>\n",
       "      <td>2.973461</td>\n",
       "      <td>2.390618</td>\n",
       "      <td>2.973412</td>\n",
       "      <td>1.850552</td>\n",
       "      <td>2.716286</td>\n",
       "      <td>3.845793</td>\n",
       "      <td>-13.235543</td>\n",
       "      <td>-5.663988</td>\n",
       "      <td>-1.977611</td>\n",
       "      <td>-6.285341</td>\n",
       "      <td>-4.003310</td>\n",
       "      <td>13.167286</td>\n",
       "      <td>11.202079</td>\n",
       "      <td>10.971358</td>\n",
       "      <td>15.501134</td>\n",
       "      <td>-9442.286077</td>\n",
       "      <td>-16347.318009</td>\n",
       "      <td>-11890.862373</td>\n",
       "      <td>-1633.002615</td>\n",
       "      <td>-1378.401605</td>\n",
       "      <td>0.307615</td>\n",
       "      <td>-0.226873</td>\n",
       "    </tr>\n",
       "    <tr>\n",
       "      <th>std</th>\n",
       "      <td>11.815080</td>\n",
       "      <td>8.216133</td>\n",
       "      <td>8.908824</td>\n",
       "      <td>7.207398</td>\n",
       "      <td>10.520561</td>\n",
       "      <td>8.683849</td>\n",
       "      <td>10.276922</td>\n",
       "      <td>7.568606</td>\n",
       "      <td>9.192451</td>\n",
       "      <td>13.420925</td>\n",
       "      <td>0.812442</td>\n",
       "      <td>0.480200</td>\n",
       "      <td>0.454903</td>\n",
       "      <td>1.003691</td>\n",
       "      <td>0.437219</td>\n",
       "      <td>8.281454</td>\n",
       "      <td>6.903190</td>\n",
       "      <td>8.708626</td>\n",
       "      <td>7.138789</td>\n",
       "      <td>1862.956146</td>\n",
       "      <td>1243.329894</td>\n",
       "      <td>1209.552244</td>\n",
       "      <td>2613.341633</td>\n",
       "      <td>2301.150394</td>\n",
       "      <td>0.202229</td>\n",
       "      <td>0.736100</td>\n",
       "    </tr>\n",
       "    <tr>\n",
       "      <th>min</th>\n",
       "      <td>0.000000</td>\n",
       "      <td>0.000000</td>\n",
       "      <td>0.000000</td>\n",
       "      <td>0.000000</td>\n",
       "      <td>0.000000</td>\n",
       "      <td>0.000000</td>\n",
       "      <td>0.000000</td>\n",
       "      <td>0.000000</td>\n",
       "      <td>0.000000</td>\n",
       "      <td>0.000000</td>\n",
       "      <td>-15.310000</td>\n",
       "      <td>-7.000000</td>\n",
       "      <td>-3.380000</td>\n",
       "      <td>-9.570000</td>\n",
       "      <td>-4.990000</td>\n",
       "      <td>-4.650000</td>\n",
       "      <td>-7.850000</td>\n",
       "      <td>-2.850000</td>\n",
       "      <td>-3.300000</td>\n",
       "      <td>-13883.225810</td>\n",
       "      <td>-18601.920000</td>\n",
       "      <td>-14438.304000</td>\n",
       "      <td>-7757.258065</td>\n",
       "      <td>-9497.774194</td>\n",
       "      <td>0.000000</td>\n",
       "      <td>-1.190000</td>\n",
       "    </tr>\n",
       "    <tr>\n",
       "      <th>25%</th>\n",
       "      <td>0.000000</td>\n",
       "      <td>0.000000</td>\n",
       "      <td>0.000000</td>\n",
       "      <td>0.000000</td>\n",
       "      <td>0.000000</td>\n",
       "      <td>0.000000</td>\n",
       "      <td>0.000000</td>\n",
       "      <td>0.000000</td>\n",
       "      <td>0.000000</td>\n",
       "      <td>0.000000</td>\n",
       "      <td>-13.380000</td>\n",
       "      <td>-5.740000</td>\n",
       "      <td>-1.970000</td>\n",
       "      <td>-6.450000</td>\n",
       "      <td>-4.060000</td>\n",
       "      <td>6.750000</td>\n",
       "      <td>5.650000</td>\n",
       "      <td>0.000000</td>\n",
       "      <td>9.750000</td>\n",
       "      <td>-10326.000000</td>\n",
       "      <td>-16799.659350</td>\n",
       "      <td>-12537.670710</td>\n",
       "      <td>-4670.903226</td>\n",
       "      <td>-3521.931034</td>\n",
       "      <td>0.170000</td>\n",
       "      <td>-0.960000</td>\n",
       "    </tr>\n",
       "    <tr>\n",
       "      <th>50%</th>\n",
       "      <td>0.000000</td>\n",
       "      <td>0.000000</td>\n",
       "      <td>0.000000</td>\n",
       "      <td>0.000000</td>\n",
       "      <td>0.000000</td>\n",
       "      <td>0.000000</td>\n",
       "      <td>0.000000</td>\n",
       "      <td>0.000000</td>\n",
       "      <td>0.000000</td>\n",
       "      <td>0.000000</td>\n",
       "      <td>-13.040000</td>\n",
       "      <td>-5.680000</td>\n",
       "      <td>-1.970000</td>\n",
       "      <td>-6.250000</td>\n",
       "      <td>-4.060000</td>\n",
       "      <td>13.350000</td>\n",
       "      <td>11.000000</td>\n",
       "      <td>10.875000</td>\n",
       "      <td>15.400000</td>\n",
       "      <td>-9728.571429</td>\n",
       "      <td>-16450.560000</td>\n",
       "      <td>-12078.720000</td>\n",
       "      <td>0.000000</td>\n",
       "      <td>0.000000</td>\n",
       "      <td>0.260000</td>\n",
       "      <td>-0.280000</td>\n",
       "    </tr>\n",
       "    <tr>\n",
       "      <th>75%</th>\n",
       "      <td>0.200000</td>\n",
       "      <td>0.000000</td>\n",
       "      <td>0.200000</td>\n",
       "      <td>0.200000</td>\n",
       "      <td>0.000000</td>\n",
       "      <td>0.000000</td>\n",
       "      <td>0.200000</td>\n",
       "      <td>0.200000</td>\n",
       "      <td>0.200000</td>\n",
       "      <td>0.200000</td>\n",
       "      <td>-12.870000</td>\n",
       "      <td>-5.620000</td>\n",
       "      <td>-1.970000</td>\n",
       "      <td>-6.070000</td>\n",
       "      <td>-4.060000</td>\n",
       "      <td>20.000000</td>\n",
       "      <td>16.700000</td>\n",
       "      <td>18.550000</td>\n",
       "      <td>21.600000</td>\n",
       "      <td>-8748.170667</td>\n",
       "      <td>-16140.990870</td>\n",
       "      <td>-11509.344000</td>\n",
       "      <td>0.000000</td>\n",
       "      <td>0.000000</td>\n",
       "      <td>0.380000</td>\n",
       "      <td>0.210000</td>\n",
       "    </tr>\n",
       "    <tr>\n",
       "      <th>max</th>\n",
       "      <td>318.800000</td>\n",
       "      <td>146.600000</td>\n",
       "      <td>152.200000</td>\n",
       "      <td>108.800000</td>\n",
       "      <td>176.600000</td>\n",
       "      <td>140.800000</td>\n",
       "      <td>209.000000</td>\n",
       "      <td>285.000000</td>\n",
       "      <td>147.200000</td>\n",
       "      <td>197.000000</td>\n",
       "      <td>0.000000</td>\n",
       "      <td>0.000000</td>\n",
       "      <td>-0.090000</td>\n",
       "      <td>0.000000</td>\n",
       "      <td>-1.030000</td>\n",
       "      <td>31.000000</td>\n",
       "      <td>29.500000</td>\n",
       "      <td>30.750000</td>\n",
       "      <td>31.050000</td>\n",
       "      <td>-4114.670400</td>\n",
       "      <td>-7149.791935</td>\n",
       "      <td>-5569.298387</td>\n",
       "      <td>0.000000</td>\n",
       "      <td>0.000000</td>\n",
       "      <td>2.170000</td>\n",
       "      <td>3.690000</td>\n",
       "    </tr>\n",
       "  </tbody>\n",
       "</table>\n",
       "</div>"
      ],
      "text/plain": [
       "       Rainfall_Gallicano  Rainfall_Pontetetto  Rainfall_Monte_Serra  \\\n",
       "count         8154.000000          8154.000000           8154.000000   \n",
       "mean             3.213613             2.269855              2.542065   \n",
       "std             11.815080             8.216133              8.908824   \n",
       "min              0.000000             0.000000              0.000000   \n",
       "25%              0.000000             0.000000              0.000000   \n",
       "50%              0.000000             0.000000              0.000000   \n",
       "75%              0.200000             0.000000              0.200000   \n",
       "max            318.800000           146.600000            152.200000   \n",
       "\n",
       "       Rainfall_Orentano  Rainfall_Borgo_a_Mozzano  Rainfall_Piaggione  \\\n",
       "count        8154.000000               8154.000000         8154.000000   \n",
       "mean            2.045965                  2.973461            2.390618   \n",
       "std             7.207398                 10.520561            8.683849   \n",
       "min             0.000000                  0.000000            0.000000   \n",
       "25%             0.000000                  0.000000            0.000000   \n",
       "50%             0.000000                  0.000000            0.000000   \n",
       "75%             0.200000                  0.000000            0.000000   \n",
       "max           108.800000                176.600000          140.800000   \n",
       "\n",
       "       Rainfall_Calavorno  Rainfall_Croce_Arcana  \\\n",
       "count         8154.000000            8154.000000   \n",
       "mean             2.973412               1.850552   \n",
       "std             10.276922               7.568606   \n",
       "min              0.000000               0.000000   \n",
       "25%              0.000000               0.000000   \n",
       "50%              0.000000               0.000000   \n",
       "75%              0.200000               0.200000   \n",
       "max            209.000000             285.000000   \n",
       "\n",
       "       Rainfall_Tereglio_Coreglia_Antelminelli  Rainfall_Fabbriche_di_Vallico  \\\n",
       "count                              8154.000000                    8154.000000   \n",
       "mean                                  2.716286                       3.845793   \n",
       "std                                   9.192451                      13.420925   \n",
       "min                                   0.000000                       0.000000   \n",
       "25%                                   0.000000                       0.000000   \n",
       "50%                                   0.000000                       0.000000   \n",
       "75%                                   0.200000                       0.200000   \n",
       "max                                 147.200000                     197.000000   \n",
       "\n",
       "       Depth_to_Groundwater_LT2  Depth_to_Groundwater_SAL  \\\n",
       "count               8154.000000               8154.000000   \n",
       "mean                 -13.235543                 -5.663988   \n",
       "std                    0.812442                  0.480200   \n",
       "min                  -15.310000                 -7.000000   \n",
       "25%                  -13.380000                 -5.740000   \n",
       "50%                  -13.040000                 -5.680000   \n",
       "75%                  -12.870000                 -5.620000   \n",
       "max                    0.000000                  0.000000   \n",
       "\n",
       "       Depth_to_Groundwater_PAG  Depth_to_Groundwater_CoS  \\\n",
       "count               8154.000000               8154.000000   \n",
       "mean                  -1.977611                 -6.285341   \n",
       "std                    0.454903                  1.003691   \n",
       "min                   -3.380000                 -9.570000   \n",
       "25%                   -1.970000                 -6.450000   \n",
       "50%                   -1.970000                 -6.250000   \n",
       "75%                   -1.970000                 -6.070000   \n",
       "max                   -0.090000                  0.000000   \n",
       "\n",
       "       Depth_to_Groundwater_DIEC  Temperature_Orentano  \\\n",
       "count                8154.000000           8154.000000   \n",
       "mean                   -4.003310             13.167286   \n",
       "std                     0.437219              8.281454   \n",
       "min                    -4.990000             -4.650000   \n",
       "25%                    -4.060000              6.750000   \n",
       "50%                    -4.060000             13.350000   \n",
       "75%                    -4.060000             20.000000   \n",
       "max                    -1.030000             31.000000   \n",
       "\n",
       "       Temperature_Monte_Serra  Temperature_Ponte_a_Moriano  \\\n",
       "count              8154.000000                  8154.000000   \n",
       "mean                 11.202079                    10.971358   \n",
       "std                   6.903190                     8.708626   \n",
       "min                  -7.850000                    -2.850000   \n",
       "25%                   5.650000                     0.000000   \n",
       "50%                  11.000000                    10.875000   \n",
       "75%                  16.700000                    18.550000   \n",
       "max                  29.500000                    30.750000   \n",
       "\n",
       "       Temperature_Lucca_Orto_Botanico    Volume_POL    Volume_CC1  \\\n",
       "count                      8154.000000   8154.000000   8154.000000   \n",
       "mean                         15.501134  -9442.286077 -16347.318009   \n",
       "std                           7.138789   1862.956146   1243.329894   \n",
       "min                          -3.300000 -13883.225810 -18601.920000   \n",
       "25%                           9.750000 -10326.000000 -16799.659350   \n",
       "50%                          15.400000  -9728.571429 -16450.560000   \n",
       "75%                          21.600000  -8748.170667 -16140.990870   \n",
       "max                          31.050000  -4114.670400  -7149.791935   \n",
       "\n",
       "         Volume_CC2   Volume_CSA  Volume_CSAL  Hydrometry_Monte_S_Quirico  \\\n",
       "count   8154.000000  8154.000000  8154.000000                 8154.000000   \n",
       "mean  -11890.862373 -1633.002615 -1378.401605                    0.307615   \n",
       "std     1209.552244  2613.341633  2301.150394                    0.202229   \n",
       "min   -14438.304000 -7757.258065 -9497.774194                    0.000000   \n",
       "25%   -12537.670710 -4670.903226 -3521.931034                    0.170000   \n",
       "50%   -12078.720000     0.000000     0.000000                    0.260000   \n",
       "75%   -11509.344000     0.000000     0.000000                    0.380000   \n",
       "max    -5569.298387     0.000000     0.000000                    2.170000   \n",
       "\n",
       "       Hydrometry_Piaggione  \n",
       "count           8154.000000  \n",
       "mean              -0.226873  \n",
       "std                0.736100  \n",
       "min               -1.190000  \n",
       "25%               -0.960000  \n",
       "50%               -0.280000  \n",
       "75%                0.210000  \n",
       "max                3.690000  "
      ]
     },
     "execution_count": 14,
     "metadata": {},
     "output_type": "execute_result"
    }
   ],
   "source": [
    "aa.describe()"
   ]
  },
  {
   "cell_type": "code",
   "execution_count": 15,
   "id": "730021b9",
   "metadata": {},
   "outputs": [
    {
     "data": {
      "text/plain": [
       "(8154, 27)"
      ]
     },
     "execution_count": 15,
     "metadata": {},
     "output_type": "execute_result"
    }
   ],
   "source": [
    "aa.shape"
   ]
  },
  {
   "cell_type": "markdown",
   "id": "913d57ae",
   "metadata": {},
   "source": [
    "The subsystems are divided into two parts North and South\n",
    "* North has - SAL, PAG, CoS and DIEC wells\n",
    "* South has - LT2"
   ]
  },
  {
   "cell_type": "code",
   "execution_count": 34,
   "id": "0d23bf96",
   "metadata": {},
   "outputs": [
    {
     "data": {
      "text/plain": [
       "<pandas.core.groupby.generic.DataFrameGroupBy object at 0x000001A2F0B69210>"
      ]
     },
     "execution_count": 34,
     "metadata": {},
     "output_type": "execute_result"
    }
   ],
   "source": [
    "aa.groupby('Month')"
   ]
  },
  {
   "cell_type": "code",
   "execution_count": 16,
   "id": "61ca72d8",
   "metadata": {},
   "outputs": [],
   "source": [
    "north_well = [\"Depth_to_Groundwater_SAL\", \"Depth_to_Groundwater_PAG\", \"Depth_to_Groundwater_CoS\", \n",
    "              \"Depth_to_Groundwater_DIEC\"]\n",
    "south_well = [\"Depth_to_Groundwater_LT2\"]"
   ]
  },
  {
   "cell_type": "code",
   "execution_count": 27,
   "id": "d75523c3",
   "metadata": {},
   "outputs": [
    {
     "data": {
      "text/plain": [
       "<pandas.core.groupby.generic.DataFrameGroupBy object at 0x000001A2ECD381C0>"
      ]
     },
     "execution_count": 27,
     "metadata": {},
     "output_type": "execute_result"
    }
   ],
   "source": [
    "# month = ['Jan', 'Feb', 'Mar', 'Apr', 'May', 'Jun', 'Jul', 'Aug', 'Sep', 'Oct', 'Nov', 'Dec']\n",
    "aa.groupby('Month')"
   ]
  },
  {
   "cell_type": "code",
   "execution_count": 26,
   "id": "77ff3a8d",
   "metadata": {},
   "outputs": [
    {
     "ename": "KeyError",
     "evalue": "'Jan'",
     "output_type": "error",
     "traceback": [
      "\u001b[1;31m---------------------------------------------------------------------------\u001b[0m",
      "\u001b[1;31mKeyError\u001b[0m                                  Traceback (most recent call last)",
      "File \u001b[1;32mD:\\datascience-main\\datascience-main\\DS\\lib\\site-packages\\pandas\\core\\indexes\\base.py:3629\u001b[0m, in \u001b[0;36mIndex.get_loc\u001b[1;34m(self, key, method, tolerance)\u001b[0m\n\u001b[0;32m   3628\u001b[0m \u001b[38;5;28;01mtry\u001b[39;00m:\n\u001b[1;32m-> 3629\u001b[0m     \u001b[38;5;28;01mreturn\u001b[39;00m \u001b[38;5;28;43mself\u001b[39;49m\u001b[38;5;241;43m.\u001b[39;49m\u001b[43m_engine\u001b[49m\u001b[38;5;241;43m.\u001b[39;49m\u001b[43mget_loc\u001b[49m\u001b[43m(\u001b[49m\u001b[43mcasted_key\u001b[49m\u001b[43m)\u001b[49m\n\u001b[0;32m   3630\u001b[0m \u001b[38;5;28;01mexcept\u001b[39;00m \u001b[38;5;167;01mKeyError\u001b[39;00m \u001b[38;5;28;01mas\u001b[39;00m err:\n",
      "File \u001b[1;32mD:\\datascience-main\\datascience-main\\DS\\lib\\site-packages\\pandas\\_libs\\index.pyx:136\u001b[0m, in \u001b[0;36mpandas._libs.index.IndexEngine.get_loc\u001b[1;34m()\u001b[0m\n",
      "File \u001b[1;32mD:\\datascience-main\\datascience-main\\DS\\lib\\site-packages\\pandas\\_libs\\index.pyx:163\u001b[0m, in \u001b[0;36mpandas._libs.index.IndexEngine.get_loc\u001b[1;34m()\u001b[0m\n",
      "File \u001b[1;32mpandas\\_libs\\hashtable_class_helper.pxi:5198\u001b[0m, in \u001b[0;36mpandas._libs.hashtable.PyObjectHashTable.get_item\u001b[1;34m()\u001b[0m\n",
      "File \u001b[1;32mpandas\\_libs\\hashtable_class_helper.pxi:5206\u001b[0m, in \u001b[0;36mpandas._libs.hashtable.PyObjectHashTable.get_item\u001b[1;34m()\u001b[0m\n",
      "\u001b[1;31mKeyError\u001b[0m: 'Jan'",
      "\nThe above exception was the direct cause of the following exception:\n",
      "\u001b[1;31mKeyError\u001b[0m                                  Traceback (most recent call last)",
      "Cell \u001b[1;32mIn [26], line 4\u001b[0m\n\u001b[0;32m      2\u001b[0m \u001b[38;5;28;01mfor\u001b[39;00m mth \u001b[38;5;129;01min\u001b[39;00m month:\n\u001b[0;32m      3\u001b[0m     plt\u001b[38;5;241m.\u001b[39mfigure(figsize\u001b[38;5;241m=\u001b[39m (\u001b[38;5;241m10\u001b[39m,\u001b[38;5;241m6\u001b[39m))\n\u001b[1;32m----> 4\u001b[0m     fig \u001b[38;5;241m=\u001b[39m px\u001b[38;5;241m.\u001b[39mviolin(x \u001b[38;5;241m=\u001b[39m \u001b[43maa\u001b[49m\u001b[43m[\u001b[49m\u001b[43mmth\u001b[49m\u001b[43m]\u001b[49m, y \u001b[38;5;241m=\u001b[39m aa[nwell])\n\u001b[0;32m      5\u001b[0m     fig\u001b[38;5;241m.\u001b[39mshow()\n",
      "File \u001b[1;32mD:\\datascience-main\\datascience-main\\DS\\lib\\site-packages\\pandas\\core\\frame.py:3505\u001b[0m, in \u001b[0;36mDataFrame.__getitem__\u001b[1;34m(self, key)\u001b[0m\n\u001b[0;32m   3503\u001b[0m \u001b[38;5;28;01mif\u001b[39;00m \u001b[38;5;28mself\u001b[39m\u001b[38;5;241m.\u001b[39mcolumns\u001b[38;5;241m.\u001b[39mnlevels \u001b[38;5;241m>\u001b[39m \u001b[38;5;241m1\u001b[39m:\n\u001b[0;32m   3504\u001b[0m     \u001b[38;5;28;01mreturn\u001b[39;00m \u001b[38;5;28mself\u001b[39m\u001b[38;5;241m.\u001b[39m_getitem_multilevel(key)\n\u001b[1;32m-> 3505\u001b[0m indexer \u001b[38;5;241m=\u001b[39m \u001b[38;5;28;43mself\u001b[39;49m\u001b[38;5;241;43m.\u001b[39;49m\u001b[43mcolumns\u001b[49m\u001b[38;5;241;43m.\u001b[39;49m\u001b[43mget_loc\u001b[49m\u001b[43m(\u001b[49m\u001b[43mkey\u001b[49m\u001b[43m)\u001b[49m\n\u001b[0;32m   3506\u001b[0m \u001b[38;5;28;01mif\u001b[39;00m is_integer(indexer):\n\u001b[0;32m   3507\u001b[0m     indexer \u001b[38;5;241m=\u001b[39m [indexer]\n",
      "File \u001b[1;32mD:\\datascience-main\\datascience-main\\DS\\lib\\site-packages\\pandas\\core\\indexes\\base.py:3631\u001b[0m, in \u001b[0;36mIndex.get_loc\u001b[1;34m(self, key, method, tolerance)\u001b[0m\n\u001b[0;32m   3629\u001b[0m     \u001b[38;5;28;01mreturn\u001b[39;00m \u001b[38;5;28mself\u001b[39m\u001b[38;5;241m.\u001b[39m_engine\u001b[38;5;241m.\u001b[39mget_loc(casted_key)\n\u001b[0;32m   3630\u001b[0m \u001b[38;5;28;01mexcept\u001b[39;00m \u001b[38;5;167;01mKeyError\u001b[39;00m \u001b[38;5;28;01mas\u001b[39;00m err:\n\u001b[1;32m-> 3631\u001b[0m     \u001b[38;5;28;01mraise\u001b[39;00m \u001b[38;5;167;01mKeyError\u001b[39;00m(key) \u001b[38;5;28;01mfrom\u001b[39;00m \u001b[38;5;21;01merr\u001b[39;00m\n\u001b[0;32m   3632\u001b[0m \u001b[38;5;28;01mexcept\u001b[39;00m \u001b[38;5;167;01mTypeError\u001b[39;00m:\n\u001b[0;32m   3633\u001b[0m     \u001b[38;5;66;03m# If we have a listlike key, _check_indexing_error will raise\u001b[39;00m\n\u001b[0;32m   3634\u001b[0m     \u001b[38;5;66;03m#  InvalidIndexError. Otherwise we fall through and re-raise\u001b[39;00m\n\u001b[0;32m   3635\u001b[0m     \u001b[38;5;66;03m#  the TypeError.\u001b[39;00m\n\u001b[0;32m   3636\u001b[0m     \u001b[38;5;28mself\u001b[39m\u001b[38;5;241m.\u001b[39m_check_indexing_error(key)\n",
      "\u001b[1;31mKeyError\u001b[0m: 'Jan'"
     ]
    },
    {
     "data": {
      "text/plain": [
       "<Figure size 1000x600 with 0 Axes>"
      ]
     },
     "metadata": {},
     "output_type": "display_data"
    }
   ],
   "source": [
    "for nwell in north_well:\n",
    "    for mth in month:\n",
    "        plt.figure(figsize= (10,6))\n",
    "        fig = px.violin(x = aa[mth], y = aa[nwell])\n",
    "        fig.show();"
   ]
  },
  {
   "cell_type": "markdown",
   "id": "d4c59834",
   "metadata": {},
   "source": [
    "## Rainfall"
   ]
  },
  {
   "cell_type": "code",
   "execution_count": null,
   "id": "259c76f6",
   "metadata": {},
   "outputs": [],
   "source": [
    "# North Well Subsystems rain fall\n",
    "rainfall = [\"Rainfall_Gallicano\", \"Rainfall_Pontetetto\", \"Rainfall_Monte_Serra\", \"Rainfall_Orentano\",\n",
    "            \"Rainfall_Borgo_a_Mozzano\", \"Rainfall_Piaggione\", \"Rainfall_Calavorno\", \"Rainfall_Croce_Arcana\",\n",
    "            \"Rainfall_Tereglio_Coreglia_Antelminelli\", \"Rainfall_Fabbriche_di_Vallico\"]\n",
    "\n",
    "for rain in rainfall:\n",
    "    for nwell in north_well:\n",
    "        plt.figure(figsize= (10,6))\n",
    "        fig = px.violin(x = aa[nwell], y = aa[rain])\n",
    "        fig.show();"
   ]
  },
  {
   "cell_type": "code",
   "execution_count": null,
   "id": "6b038031",
   "metadata": {},
   "outputs": [],
   "source": [
    "# South Well Subsystems rain fall\n",
    "rainfall = [\"Rainfall_Gallicano\", \"Rainfall_Pontetetto\", \"Rainfall_Monte_Serra\", \"Rainfall_Orentano\",\n",
    "            \"Rainfall_Borgo_a_Mozzano\", \"Rainfall_Piaggione\", \"Rainfall_Calavorno\", \"Rainfall_Croce_Arcana\",\n",
    "            \"Rainfall_Tereglio_Coreglia_Antelminelli\", \"Rainfall_Fabbriche_di_Vallico\"]\n",
    "\n",
    "for rain in rainfall:\n",
    "    for swell in south_well:\n",
    "        plt.figure(figsize= (10,6))\n",
    "        fig = px.histogram(x = aa[swell], y = aa[rain])\n",
    "        fig.show();"
   ]
  },
  {
   "cell_type": "markdown",
   "id": "7f60fa35",
   "metadata": {},
   "source": [
    "## Volume of water present in each well"
   ]
  },
  {
   "cell_type": "code",
   "execution_count": null,
   "id": "231e76a5",
   "metadata": {
    "scrolled": true
   },
   "outputs": [],
   "source": [
    "# North Well volume\n",
    "volume = [\"Volume_POL\", \"Volume_CC1\", \"Volume_CC2\", \"Volume_CSA\", \"Volume_CSAL\"]\n",
    "for well in rainfall:\n",
    "    for vol in volume:\n",
    "        plt.figure(figsize= (15,6))\n",
    "        fig = px.histogram(x = aa[vol], y = aa[well], title=\"North Well\")\n",
    "        fig.show();"
   ]
  },
  {
   "cell_type": "code",
   "execution_count": null,
   "id": "081e8e70",
   "metadata": {},
   "outputs": [],
   "source": [
    "# South Well\n",
    "south_well = [\"Depth_to_Groundwater_LT2\"]\n",
    "volume = [\"Volume_POL\", \"Volume_CC1\", \"Volume_CC2\", \"Volume_CSA\", \"Volume_CSAL\"]\n",
    "\n",
    "for well in rainfall:\n",
    "    for vol in volume:\n",
    "        plt.figure(figsize= (10,6))\n",
    "        fig = px.histogram(x = aa[vol], y = aa[well])\n",
    "        fig.show();"
   ]
  },
  {
   "cell_type": "markdown",
   "id": "e4918074",
   "metadata": {},
   "source": [
    "## Temperature of each well"
   ]
  },
  {
   "cell_type": "code",
   "execution_count": null,
   "id": "87c43891",
   "metadata": {},
   "outputs": [],
   "source": [
    "# North Well temperature\n",
    "temperature = [\"Temperature_Monte_Serra\", \"Temperature_Ponte_a_Moriano\", \"Temperature_Lucca_Orto_Botanico\"]\n",
    "\n",
    "for well in rainfall:\n",
    "    for temp in temperature:\n",
    "        plt.figure(figsize= (10,6))\n",
    "        fig = px.histogram(x = aa[temp], y = aa[well])\n",
    "        fig.show();"
   ]
  },
  {
   "cell_type": "code",
   "execution_count": null,
   "id": "b9d81d9e",
   "metadata": {},
   "outputs": [],
   "source": [
    "# South Well temperature\n",
    "\n",
    "temperature = [\"Temperature_Monte_Serra\", \"Temperature_Ponte_a_Moriano\", \"Temperature_Lucca_Orto_Botanico\"]\n",
    "\n",
    "for well in rainfall:\n",
    "    for temp in temperature:\n",
    "        plt.figure(figsize= (10,6))\n",
    "        fig = px.histogram(x = aa[temp], y = aa[well])\n",
    "        fig.show();"
   ]
  },
  {
   "cell_type": "markdown",
   "id": "98616ffd",
   "metadata": {},
   "source": [
    "## Hydrometry of each well"
   ]
  },
  {
   "cell_type": "code",
   "execution_count": null,
   "id": "e5dca375",
   "metadata": {},
   "outputs": [],
   "source": [
    "# North Well hydrometry\n",
    "temperature = [\"Temperature_Monte_Serra\", \"Temperature_Ponte_a_Moriano\", \"Temperature_Lucca_Orto_Botanico\"]\n",
    "\n",
    "for well in rainfall:\n",
    "    for temp in temperature:\n",
    "        plt.figure(figsize= (10,6))\n",
    "        fig = px.histogram(x = aa[temp], y = aa[well])\n",
    "        fig.show()"
   ]
  },
  {
   "cell_type": "code",
   "execution_count": null,
   "id": "42d25403",
   "metadata": {},
   "outputs": [],
   "source": [
    "# South Well hydrometry\n",
    "temperature = [\"Hydrometry_Monte_S_Quirico\", \"Hydrometry_Piaggione\"]\n",
    "\n",
    "for well in rainfall:\n",
    "    for temp in temperature:\n",
    "        plt.figure(figsize= (10,6))\n",
    "        fig = px.histogram(x = aa[temp], y = aa[well])\n",
    "        fig.show();"
   ]
  },
  {
   "cell_type": "markdown",
   "id": "78db89f0",
   "metadata": {},
   "source": [
    "# <a id='doganella'>Doganella</a>"
   ]
  },
  {
   "cell_type": "code",
   "execution_count": null,
   "id": "808773d0",
   "metadata": {},
   "outputs": [],
   "source": [
    "pd.set_option('display.max_columns', None)\n",
    "ad = pd.read_csv(\"../data/ACEA_Water/Aquifer_Doganella.csv\")\n",
    "ad.head()"
   ]
  },
  {
   "cell_type": "code",
   "execution_count": null,
   "id": "4fa04fab",
   "metadata": {},
   "outputs": [],
   "source": [
    "ad.columns"
   ]
  },
  {
   "cell_type": "code",
   "execution_count": null,
   "id": "31c8cccc",
   "metadata": {},
   "outputs": [],
   "source": [
    "missing_val = [features for features in ad.columns if ad[features].isnull().sum()>1]\n",
    "\n",
    "for feature in missing_val:\n",
    "    print(feature, np.round(ad[feature].isnull().mean(), 3), \"% missing values\")"
   ]
  },
  {
   "cell_type": "code",
   "execution_count": null,
   "id": "a42f844e",
   "metadata": {},
   "outputs": [],
   "source": [
    "for feature in missing_val:\n",
    "    median_value=ad[feature].median()\n",
    "    ad[feature].fillna(median_value,inplace=True)"
   ]
  },
  {
   "cell_type": "code",
   "execution_count": null,
   "id": "c2aaa0b0",
   "metadata": {},
   "outputs": [],
   "source": [
    "ad.isnull().sum()"
   ]
  },
  {
   "cell_type": "code",
   "execution_count": null,
   "id": "be4e9433",
   "metadata": {},
   "outputs": [],
   "source": [
    "ad.dtypes"
   ]
  },
  {
   "cell_type": "code",
   "execution_count": null,
   "id": "de6c33fd",
   "metadata": {},
   "outputs": [],
   "source": [
    "ad.describe()"
   ]
  },
  {
   "cell_type": "code",
   "execution_count": null,
   "id": "05c36c93",
   "metadata": {},
   "outputs": [],
   "source": [
    "ad.shape"
   ]
  },
  {
   "cell_type": "markdown",
   "id": "a3a83100",
   "metadata": {},
   "source": [
    "The Doganella well is fed by two underground aquifers \n",
    "* the upper stratum is a water table with a thickness of about 30m while the lower one is a semi-confined artesian aquifer with a thickness of 50m."
   ]
  },
  {
   "cell_type": "markdown",
   "id": "30f9383a",
   "metadata": {},
   "source": [
    "## Rainfall"
   ]
  },
  {
   "cell_type": "code",
   "execution_count": null,
   "id": "32bb1563",
   "metadata": {},
   "outputs": [],
   "source": [
    "rainfall = [\"Rainfall_Monteporzio\", \"Rainfall_Velletri\"]"
   ]
  },
  {
   "cell_type": "code",
   "execution_count": null,
   "id": "983c453d",
   "metadata": {
    "scrolled": true
   },
   "outputs": [],
   "source": [
    "for rain in rainfall:\n",
    "    print(rain)\n",
    "    fig = px.histogram(ad[rain])\n",
    "    fig.show();"
   ]
  },
  {
   "cell_type": "markdown",
   "id": "4c27ddbf",
   "metadata": {},
   "source": [
    "## Depth"
   ]
  },
  {
   "cell_type": "code",
   "execution_count": null,
   "id": "c2961b12",
   "metadata": {},
   "outputs": [],
   "source": [
    "depth = [\"Depth_to_Groundwater_Pozzo_1\", \"Depth_to_Groundwater_Pozzo_2\", \"Depth_to_Groundwater_Pozzo_3\", \n",
    "         \"Depth_to_Groundwater_Pozzo_4\", \"Depth_to_Groundwater_Pozzo_5\", \"Depth_to_Groundwater_Pozzo_6\", \n",
    "         \"Depth_to_Groundwater_Pozzo_7\",\"Depth_to_Groundwater_Pozzo_8\", \"Depth_to_Groundwater_Pozzo_9\"]"
   ]
  },
  {
   "cell_type": "code",
   "execution_count": null,
   "id": "16eb2540",
   "metadata": {},
   "outputs": [],
   "source": [
    "for rain in rainfall:\n",
    "    for dep in depth:\n",
    "        print(rain, dep)\n",
    "        fig = px.histogram(x = ad[dep], y = ad[rain])\n",
    "        fig.show();"
   ]
  },
  {
   "cell_type": "markdown",
   "id": "9ff631f4",
   "metadata": {},
   "source": [
    "## Volume"
   ]
  },
  {
   "cell_type": "code",
   "execution_count": null,
   "id": "4a054d2a",
   "metadata": {},
   "outputs": [],
   "source": [
    "volume = [\"Volume_Pozzo_1\", \"Volume_Pozzo_2\", \"Volume_Pozzo_3\", \"Volume_Pozzo_4\", \"Volume_Pozzo_5+6\", \n",
    "          \"Volume_Pozzo_7\", \"Volume_Pozzo_8\", \"Volume_Pozzo_9\"]"
   ]
  },
  {
   "cell_type": "code",
   "execution_count": null,
   "id": "b960bba4",
   "metadata": {},
   "outputs": [],
   "source": [
    "for rain in rainfall:\n",
    "    for vol in volume:\n",
    "        print(vol, rain)\n",
    "        plt.figure(figsize= (10,6))\n",
    "        fig = px.histogram(x = ad[vol], y = ad[rain])\n",
    "        fig.show();"
   ]
  },
  {
   "cell_type": "markdown",
   "id": "1e735b68",
   "metadata": {},
   "source": [
    "## Temperature"
   ]
  },
  {
   "cell_type": "code",
   "execution_count": null,
   "id": "e0b4e756",
   "metadata": {},
   "outputs": [],
   "source": [
    "temperature = [\"Temperature_Monteporzio\", \"Temperature_Velletri\"]"
   ]
  },
  {
   "cell_type": "code",
   "execution_count": null,
   "id": "5b414cc7",
   "metadata": {},
   "outputs": [],
   "source": [
    "for rain in rainfall:\n",
    "    for temp in temperature:\n",
    "        print(temp, rain)\n",
    "        plt.figure(figsize= (10,6))\n",
    "        fig = px.histogram(x = ad[temp], y = ad[rain])\n",
    "        fig.show();"
   ]
  },
  {
   "cell_type": "markdown",
   "id": "de16b231",
   "metadata": {},
   "source": [
    "# <a id='petrignano'>Petrignano</a>"
   ]
  },
  {
   "cell_type": "code",
   "execution_count": null,
   "id": "3464ac93",
   "metadata": {},
   "outputs": [],
   "source": [
    "pd.set_option('display.max_columns', None)\n",
    "ap = pd.read_csv(\"../data/ACEA_Water/Aquifer_Petrignano.csv\")\n",
    "ap.head()"
   ]
  },
  {
   "cell_type": "code",
   "execution_count": null,
   "id": "6ad64ddb",
   "metadata": {},
   "outputs": [],
   "source": [
    "ap.columns"
   ]
  },
  {
   "cell_type": "code",
   "execution_count": null,
   "id": "e3774e41",
   "metadata": {},
   "outputs": [],
   "source": [
    "missing_val = [features for features in ap.columns if ap[features].isnull().sum()>1]\n",
    "\n",
    "for feature in missing_val:\n",
    "    print(feature, np.round(ap[feature].isnull().mean(), 3), \"% missing values\")"
   ]
  },
  {
   "cell_type": "code",
   "execution_count": null,
   "id": "e720414b",
   "metadata": {},
   "outputs": [],
   "source": [
    "# Handling Missing values\n",
    "for feature in missing_val:\n",
    "    median_value=ap[feature].median()\n",
    "    ap[feature].fillna(median_value,inplace=True)"
   ]
  },
  {
   "cell_type": "code",
   "execution_count": null,
   "id": "f18f437f",
   "metadata": {},
   "outputs": [],
   "source": [
    "ap.isnull().sum()"
   ]
  },
  {
   "cell_type": "code",
   "execution_count": null,
   "id": "3ee1d1ea",
   "metadata": {},
   "outputs": [],
   "source": [
    "ap.dtypes"
   ]
  },
  {
   "cell_type": "code",
   "execution_count": null,
   "id": "d89de55b",
   "metadata": {},
   "outputs": [],
   "source": [
    "ap.describe()"
   ]
  },
  {
   "cell_type": "code",
   "execution_count": null,
   "id": "08db9bf4",
   "metadata": {},
   "outputs": [],
   "source": [
    "ap.shape"
   ]
  },
  {
   "cell_type": "markdown",
   "id": "01e7dbc2",
   "metadata": {},
   "source": [
    "## Rainfall"
   ]
  },
  {
   "cell_type": "code",
   "execution_count": null,
   "id": "7871ee49",
   "metadata": {},
   "outputs": [],
   "source": [
    "rainfall = [\"Rainfall_Bastia_Umbra\"]"
   ]
  },
  {
   "cell_type": "code",
   "execution_count": null,
   "id": "c0a8b637",
   "metadata": {},
   "outputs": [],
   "source": [
    "for rain in rainfall:\n",
    "    fig = px.histogram(ap[rain])\n",
    "    fig.show();"
   ]
  },
  {
   "cell_type": "markdown",
   "id": "67cfce76",
   "metadata": {},
   "source": [
    "## Depth"
   ]
  },
  {
   "cell_type": "code",
   "execution_count": null,
   "id": "f241e485",
   "metadata": {},
   "outputs": [],
   "source": [
    "depth = [\"Depth_to_Groundwater_P24\", \"Depth_to_Groundwater_P25\"]"
   ]
  },
  {
   "cell_type": "code",
   "execution_count": null,
   "id": "740866da",
   "metadata": {
    "scrolled": true
   },
   "outputs": [],
   "source": [
    "for rain in rainfall:\n",
    "    for dep in depth:\n",
    "        print(dep, rain)\n",
    "        fig = px.histogram(x = ap[dep], y = ap[rain])\n",
    "        fig.show();"
   ]
  },
  {
   "cell_type": "markdown",
   "id": "c819e967",
   "metadata": {},
   "source": [
    "## Temperature"
   ]
  },
  {
   "cell_type": "code",
   "execution_count": null,
   "id": "fd9d8f43",
   "metadata": {},
   "outputs": [],
   "source": [
    "temperature = [\"Temperature_Bastia_Umbra\", \"Temperature_Petrignano\"]"
   ]
  },
  {
   "cell_type": "code",
   "execution_count": null,
   "id": "5d67433d",
   "metadata": {
    "scrolled": true
   },
   "outputs": [],
   "source": [
    "for rain in rainfall:\n",
    "    for temp in temperature:\n",
    "        print(temp, rain)\n",
    "        fig = px.histogram(x = ap[temp], y = ap[rain])\n",
    "        fig.show();"
   ]
  },
  {
   "cell_type": "code",
   "execution_count": null,
   "id": "3e2f4a05",
   "metadata": {},
   "outputs": [],
   "source": [
    "volume = [\"Volume_C10_Petrignano\"]"
   ]
  },
  {
   "cell_type": "code",
   "execution_count": null,
   "id": "f24e224a",
   "metadata": {},
   "outputs": [],
   "source": [
    "for rain in rainfall:\n",
    "    for vol in volume:\n",
    "        print(vol, rain)\n",
    "        fig = px.histogram(x = ap[vol], y = ap[rain])\n",
    "        fig.show();"
   ]
  },
  {
   "cell_type": "code",
   "execution_count": null,
   "id": "9c5a19d7",
   "metadata": {},
   "outputs": [],
   "source": [
    "hydrometry = [\"Hydrometry_Fiume_Chiascio_Petrignano\"]"
   ]
  },
  {
   "cell_type": "code",
   "execution_count": null,
   "id": "2469c5e4",
   "metadata": {},
   "outputs": [],
   "source": [
    "for rain in rainfall:\n",
    "    for hydro in hydrometry:\n",
    "        print(hydro, rain)\n",
    "        fig = px.histogram(x = ap[hydro], y = ap[rain])\n",
    "        fig.show();"
   ]
  },
  {
   "cell_type": "markdown",
   "id": "13818e1e",
   "metadata": {},
   "source": [
    "# <a id='luco'>Luco</a>"
   ]
  },
  {
   "cell_type": "code",
   "execution_count": null,
   "id": "78870573",
   "metadata": {},
   "outputs": [],
   "source": [
    "pd.set_option('display.max_columns', None)\n",
    "al = pd.read_csv(\"../data/ACEA_Water/Aquifer_Luco.csv\")\n",
    "al.head()"
   ]
  },
  {
   "cell_type": "code",
   "execution_count": null,
   "id": "9c4e8574",
   "metadata": {},
   "outputs": [],
   "source": [
    "al.columns"
   ]
  },
  {
   "cell_type": "code",
   "execution_count": null,
   "id": "fec29b20",
   "metadata": {},
   "outputs": [],
   "source": [
    "missing_val = [features for features in al.columns if al[features].isnull().sum()>1]\n",
    "\n",
    "for feature in missing_val:\n",
    "    print(feature, np.round(al[feature].isnull().mean(), 3), \"% missing values\")"
   ]
  },
  {
   "cell_type": "code",
   "execution_count": null,
   "id": "255ee81c",
   "metadata": {},
   "outputs": [],
   "source": [
    "# Handling Missing values\n",
    "for feature in missing_val:\n",
    "    median_value=al[feature].median()\n",
    "    al[feature].fillna(median_value,inplace=True)"
   ]
  },
  {
   "cell_type": "code",
   "execution_count": null,
   "id": "e8729627",
   "metadata": {},
   "outputs": [],
   "source": [
    "al.isnull().sum()"
   ]
  },
  {
   "cell_type": "code",
   "execution_count": null,
   "id": "1fefaeec",
   "metadata": {},
   "outputs": [],
   "source": [
    "al.describe()"
   ]
  },
  {
   "cell_type": "code",
   "execution_count": null,
   "id": "455c8c2e",
   "metadata": {},
   "outputs": [],
   "source": [
    "al.shape"
   ]
  },
  {
   "cell_type": "markdown",
   "id": "71aa70f3",
   "metadata": {},
   "source": [
    "## Rainfall"
   ]
  },
  {
   "cell_type": "code",
   "execution_count": null,
   "id": "666bf4bc",
   "metadata": {},
   "outputs": [],
   "source": [
    "rainfall = [\"Rainfall_Simignano\", \"Rainfall_Siena_Poggio_al_Vento\", \"Rainfall_Mensano\", \"Rainfall_Montalcinello\",\n",
    "            \"Rainfall_Monticiano_la_Pineta\", \"Rainfall_Sovicille\", \"Rainfall_Ponte_Orgia\", \"Rainfall_Scorgiano\", \n",
    "            \"Rainfall_Pentolina\", \"Rainfall_Monteroni_Arbia_Biena\"]"
   ]
  },
  {
   "cell_type": "code",
   "execution_count": null,
   "id": "3b8039b9",
   "metadata": {},
   "outputs": [],
   "source": [
    "for rain in rainfall:\n",
    "    fig = px.histogram(al[rain])\n",
    "    fig.update_xaxes(autorange=False)\n",
    "    fig.show();"
   ]
  },
  {
   "cell_type": "code",
   "execution_count": null,
   "id": "24a46ed4",
   "metadata": {},
   "outputs": [],
   "source": [
    "depth = [\"Depth_to_Groundwater_Podere_Casetta\", \"Depth_to_Groundwater_Pozzo_1\", \"Depth_to_Groundwater_Pozzo_3\", \n",
    "         \"Depth_to_Groundwater_Pozzo_4\"]"
   ]
  },
  {
   "cell_type": "code",
   "execution_count": null,
   "id": "3edcee0f",
   "metadata": {},
   "outputs": [],
   "source": [
    "for rain in rainfall:\n",
    "    for dep in depth:\n",
    "        print(dep, rain)\n",
    "        fig = px.histogram(x = al[dep], y = al[rain])\n",
    "        fig.show();"
   ]
  },
  {
   "cell_type": "code",
   "execution_count": null,
   "id": "8d8596b2",
   "metadata": {},
   "outputs": [],
   "source": [
    "temperature = [\"Temperature_Mensano\", \"Temperature_Pentolina\", \"Temperature_Monteroni_Arbia_Biena\"]"
   ]
  },
  {
   "cell_type": "code",
   "execution_count": null,
   "id": "2689db01",
   "metadata": {},
   "outputs": [],
   "source": [
    "for rain in rainfall:\n",
    "    for temp in temperature:\n",
    "        print(temp, rain)\n",
    "        fig = px.histogram(x = al[temp], y = al[rain])\n",
    "        fig.show();"
   ]
  },
  {
   "cell_type": "code",
   "execution_count": null,
   "id": "f5891a4f",
   "metadata": {},
   "outputs": [],
   "source": [
    "volume = [\"Volume_Pozzo_1\", \"Volume_Pozzo_3\", \"Volume_Pozzo_4\"]"
   ]
  },
  {
   "cell_type": "code",
   "execution_count": null,
   "id": "17411f02",
   "metadata": {},
   "outputs": [],
   "source": [
    "for rain in rainfall:\n",
    "    for vol in temperature:\n",
    "        print(vol, rain)\n",
    "        fig = px.histogram(x = al[vol], y = al[rain])\n",
    "        fig.show();"
   ]
  },
  {
   "cell_type": "code",
   "execution_count": null,
   "id": "cfae5bad",
   "metadata": {},
   "outputs": [],
   "source": []
  }
 ],
 "metadata": {
  "kernelspec": {
   "display_name": "Python 3 (ipykernel)",
   "language": "python",
   "name": "python3"
  },
  "language_info": {
   "codemirror_mode": {
    "name": "ipython",
    "version": 3
   },
   "file_extension": ".py",
   "mimetype": "text/x-python",
   "name": "python",
   "nbconvert_exporter": "python",
   "pygments_lexer": "ipython3",
   "version": "3.10.7"
  }
 },
 "nbformat": 4,
 "nbformat_minor": 5
}
