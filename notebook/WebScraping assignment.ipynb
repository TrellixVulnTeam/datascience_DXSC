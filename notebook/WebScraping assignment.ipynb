{
 "cells": [
  {
   "cell_type": "code",
   "execution_count": 1,
   "id": "c5f2d1f2",
   "metadata": {},
   "outputs": [],
   "source": [
    "import warnings\n",
    "warnings.filterwarnings('ignore')\n",
    "\n",
    "from selenium import webdriver\n",
    "\n",
    "# Driver_path=r\"C:\\Users\\appu\\Downloads\\chromedriver_win32\\chromedriver.exe\"\n",
    "Driver_path=r\"D:\\datascience-main\\datascience-main\\notebook\\Flipkart/geckodriver.exe\"\n",
    "\n",
    "driver=webdriver.Firefox(executable_path=Driver_path)"
   ]
  },
  {
   "cell_type": "code",
   "execution_count": 2,
   "id": "eb588478",
   "metadata": {},
   "outputs": [],
   "source": [
    "driver.get(\"https://www.flipkart.com/search?q=mobiles&as=on&as-show=on&otracker=AS_Query_TrendingAutoSuggest_1_0_na_na_na&otracker1=AS_Query_TrendingAutoSuggest_1_0_na_na_na&as-pos=1&as-type=HISTORY&suggestionId=mobiles&requestId=0a42af28-a1f3-48ae-95a5-99a0bdd48f8f&as-backfill=on\")"
   ]
  },
  {
   "cell_type": "code",
   "execution_count": 5,
   "id": "30b2f2b8",
   "metadata": {},
   "outputs": [
    {
     "ename": "AttributeError",
     "evalue": "'WebDriver' object has no attribute 'find_elements_by_class_name'",
     "output_type": "error",
     "traceback": [
      "\u001b[1;31m---------------------------------------------------------------------------\u001b[0m",
      "\u001b[1;31mAttributeError\u001b[0m                            Traceback (most recent call last)",
      "Input \u001b[1;32mIn [5]\u001b[0m, in \u001b[0;36m<cell line: 2>\u001b[1;34m()\u001b[0m\n\u001b[0;32m      3\u001b[0m t\u001b[38;5;241m=\u001b[39m\u001b[38;5;124mf\u001b[39m\u001b[38;5;124m'\u001b[39m\u001b[38;5;124mhttps://www.flipkart.com/search?q=mobiles&as=on&as-show=on&otracker=AS_Query_TrendingAutoSuggest_1_0_na_na_na&otracker1=AS_Query_TrendingAutoSuggest_1_0_na_na_na&as-pos=1&as-type=HISTORY&suggestionId=mobiles&requestId=0a42af28-a1f3-48ae-95a5-99a0bdd48f8f&as-backfill=on&page=\u001b[39m\u001b[38;5;132;01m{\u001b[39;00mi\u001b[38;5;132;01m}\u001b[39;00m\u001b[38;5;124m'\u001b[39m\n\u001b[0;32m      4\u001b[0m driver\u001b[38;5;241m.\u001b[39mget(t)\n\u001b[1;32m----> 5\u001b[0m productlist\u001b[38;5;241m=\u001b[39m\u001b[43mdriver\u001b[49m\u001b[38;5;241;43m.\u001b[39;49m\u001b[43mfind_elements_by_class_name\u001b[49m(\u001b[38;5;124m'\u001b[39m\u001b[38;5;124m_2kHMtA\u001b[39m\u001b[38;5;124m'\u001b[39m)\n\u001b[0;32m      6\u001b[0m \u001b[38;5;28;01mfor\u001b[39;00m h \u001b[38;5;129;01min\u001b[39;00m productlist:\n\u001b[0;32m      7\u001b[0m     t\u001b[38;5;241m=\u001b[39mh\u001b[38;5;241m.\u001b[39mfind_element_by_tag_name(\u001b[38;5;124m'\u001b[39m\u001b[38;5;124ma\u001b[39m\u001b[38;5;124m'\u001b[39m)\n",
      "\u001b[1;31mAttributeError\u001b[0m: 'WebDriver' object has no attribute 'find_elements_by_class_name'"
     ]
    }
   ],
   "source": [
    "listofLinks=[]\n",
    "for i in range(1,11):\n",
    "    t=f'https://www.flipkart.com/search?q=mobiles&as=on&as-show=on&otracker=AS_Query_TrendingAutoSuggest_1_0_na_na_na&otracker1=AS_Query_TrendingAutoSuggest_1_0_na_na_na&as-pos=1&as-type=HISTORY&suggestionId=mobiles&requestId=0a42af28-a1f3-48ae-95a5-99a0bdd48f8f&as-backfill=on&page={i}'\n",
    "    driver.get(t)\n",
    "    productlist=driver.find_elements_by_class_name('_2kHMtA')\n",
    "    for h in productlist:\n",
    "        t=h.find_element_by_tag_name('a')\n",
    "        listofLinks.append(t.get_property('href'))"
   ]
  },
  {
   "cell_type": "code",
   "execution_count": null,
   "id": "2f1a3d06",
   "metadata": {},
   "outputs": [],
   "source": [
    "len(listofLinks)"
   ]
  },
  {
   "cell_type": "code",
   "execution_count": null,
   "id": "b989427f",
   "metadata": {},
   "outputs": [],
   "source": [
    "import pandas as pd\n",
    "pd.Dataframe(listofLinks)"
   ]
  },
  {
   "cell_type": "code",
   "execution_count": null,
   "id": "032f5ea3",
   "metadata": {},
   "outputs": [],
   "source": [
    "l=len(set(listofLinks))\n",
    "l"
   ]
  },
  {
   "cell_type": "code",
   "execution_count": null,
   "id": "6c93aa2f",
   "metadata": {},
   "outputs": [],
   "source": [
    "names=[]\n",
    "color=[]\n",
    "for i in range(len(listofLinks)):\n",
    "    try:\n",
    "        driver.get(listofLinks[i])\n",
    "    except Exception as e:\n",
    "        print(i)\n",
    "        print(\"Invalid Link, No Data\")\n",
    "        break\n",
    "    tags=driver.find_elements_by_tag_name('tr')\n",
    "    for l in tags:\n",
    "        try:\n",
    "            m,n=l.text.split(\"\\n\")\n",
    "            if m=='Model Name':\n",
    "                names.append(n)\n",
    "            elif m=='Color':\n",
    "                color.append(n)\n",
    "        except:\n",
    "            pass"
   ]
  },
  {
   "cell_type": "code",
   "execution_count": null,
   "id": "a5048114",
   "metadata": {},
   "outputs": [],
   "source": [
    "battery=[]\n",
    "for i in range(len(listofLinks)):\n",
    "    try:\n",
    "        driver.get(listofLinks[i])\n",
    "    except Exception as e:\n",
    "        print(i)\n",
    "        print(\"Invalid Link, No Data\")\n",
    "        break\n",
    "    driver.get(listofLinks[i])\n",
    "    tags=driver.find_elements_by_tag_name('tr')\n",
    "    for l in range(0,-10,-1):\n",
    "        m,n=tags[l].text.split(\"\\n\")\n",
    "        print(l)\n",
    "        if m=='Battery Capacity':\n",
    "            battery.append(n)"
   ]
  },
  {
   "cell_type": "code",
   "execution_count": null,
   "id": "0ae5e16f",
   "metadata": {},
   "outputs": [],
   "source": [
    "displaySize=[]\n",
    "for i in range(len(listofLinks)):\n",
    "    try:\n",
    "        driver.get(listofLinks[i])\n",
    "    except Exception as e:\n",
    "        print(i)\n",
    "        print(\"Invalid Link, No Data\")\n",
    "        break\n",
    "    try:\n",
    "        driver.get(listofLinks[i])\n",
    "        print(i)\n",
    "        driver.find_element_by_xpath('//*[@id=\"container\"]/div/div[3]/div[1]/div[2]/div[9]/div/div/div[5]/div/div[2]/button').click()\n",
    "    except NoSuchElementException:\n",
    "        driver.find_element_by_xpath('//*[@id=\"container\"]/div/div[3]/div[1]/div[2]/div[9]/div[5]/div/div[2]/button').click()\n",
    "    #except:\n",
    "        #driver.find_element_by_css_selector('').click()\n",
    "    tags=driver.find_elements_by_tag_name('tr')\n",
    "    try:\n",
    "        print(tags[10].text.split('\\n')[-1])\n",
    "    except:\n",
    "        tags[9].text.split('\\n')\n",
    "        print(i)"
   ]
  },
  {
   "cell_type": "code",
   "execution_count": null,
   "id": "fa7a6d9b",
   "metadata": {},
   "outputs": [],
   "source": [
    "listofLinks[51]"
   ]
  },
  {
   "cell_type": "code",
   "execution_count": null,
   "id": "29ebb4de",
   "metadata": {},
   "outputs": [],
   "source": [
    "battery"
   ]
  },
  {
   "cell_type": "code",
   "execution_count": null,
   "id": "738688c3",
   "metadata": {},
   "outputs": [],
   "source": [
    "len(names)"
   ]
  },
  {
   "cell_type": "code",
   "execution_count": null,
   "id": "8a2a6fab",
   "metadata": {},
   "outputs": [],
   "source": [
    "len(color)"
   ]
  },
  {
   "cell_type": "code",
   "execution_count": null,
   "id": "197ab3e7",
   "metadata": {},
   "outputs": [],
   "source": [
    "names=[]\n",
    "color=[]\n",
    "battery=[]\n",
    "internalStorage=[]\n",
    "ram=[]\n",
    "displaySize=[]\n",
    "\n",
    "for i in range(len(listofLinks)):\n",
    "    try:\n",
    "        driver.get(listofLinks[i])\n",
    "    except Exception as e:\n",
    "        print(i)\n",
    "        print(\"Invalid Link, No Data\")\n",
    "        break\n",
    "    try:\n",
    "        driver.get(listofLinks[i])\n",
    "        x=driver.find_element_by_class_name('_3dtsli')\n",
    "        x.find_element_by_tag_name('button').click()\n",
    "    except:\n",
    "        pass\n",
    "    time.sleep(2)\n",
    "    tags=driver.find_elements_by_tag_name('tr')\n",
    "       \n",
    "    for l in tags:\n",
    "        #print(l.text)\n",
    "        try:\n",
    "            m,n=l.text.split(\"\\n\")\n",
    "            if m=='Model Name':\n",
    "                names.append(n)\n",
    "            elif m=='Color':\n",
    "                color.append(n)\n",
    "            elif m=='Display Size':\n",
    "                displaySize.append(n)\n",
    "            elif m=='Battery Capacity':\n",
    "                battery.append(n)\n",
    "            elif m=='RAM':\n",
    "                ram.append(n)\n",
    "            elif m=='Internal Storage':\n",
    "                internalStorage.append(n)\n",
    "        except Exception as e:\n",
    "            print(l.text)\n",
    "    time.sleep(2)"
   ]
  },
  {
   "cell_type": "code",
   "execution_count": null,
   "id": "9489c3dc",
   "metadata": {},
   "outputs": [],
   "source": [
    "len(battery)"
   ]
  },
  {
   "cell_type": "code",
   "execution_count": null,
   "id": "d7d9a7dc",
   "metadata": {},
   "outputs": [],
   "source": [
    "len(displaySize)"
   ]
  },
  {
   "cell_type": "code",
   "execution_count": null,
   "id": "7b3223b5",
   "metadata": {},
   "outputs": [],
   "source": [
    "len(ram)"
   ]
  },
  {
   "cell_type": "code",
   "execution_count": null,
   "id": "ca93726d",
   "metadata": {},
   "outputs": [],
   "source": [
    "len(internalStorage)"
   ]
  },
  {
   "cell_type": "code",
   "execution_count": null,
   "id": "f67fa1bb",
   "metadata": {},
   "outputs": [],
   "source": [
    "listofLinks[34]"
   ]
  },
  {
   "cell_type": "code",
   "execution_count": null,
   "id": "9b257456",
   "metadata": {},
   "outputs": [],
   "source": []
  },
  {
   "cell_type": "code",
   "execution_count": null,
   "id": "7b5be6b2",
   "metadata": {},
   "outputs": [],
   "source": [
    "if m=='Model Name':\n",
    "                names.append(n)\n",
    "            elif m=='Color':\n",
    "                color.append(n)"
   ]
  },
  {
   "cell_type": "code",
   "execution_count": null,
   "id": "e4698184",
   "metadata": {},
   "outputs": [],
   "source": [
    "driver.find_element_by_name('Read More')"
   ]
  },
  {
   "cell_type": "code",
   "execution_count": null,
   "id": "e329c120",
   "metadata": {},
   "outputs": [],
   "source": [
    "\n",
    "price=[]\n",
    "for i in range(len(listofLinks)):\n",
    "    try:\n",
    "        driver.get(listofLinks[i])\n",
    "    except Exception as e:\n",
    "        print(link)\n",
    "        print(\"Invalid Link, No Data\")\n",
    "        break\n",
    "    t=driver.find_element_by_class_name('_3k-BhJ')\n",
    "    try:\n",
    "        #name=driver.find_element_by_xpath('//*[@id=\"container\"]/div/div[3]/div[1]/div[2]/div[10]/div[4]/div/div[2]/div[1]/div[1]/table/tbody/tr[3]/td[2]/ul/li').text\n",
    "        name = t.find_element_by_xpath('//*[@id=\"container\"]/div/div[3]/div[1]/div[2]/div[9]/div/div/div[5]/div/div[2]/div/div[1]/table/tbody/tr[3]/td[2]/ul/li').text\n",
    "        names.append(name)\n",
    "    except Exception as e:\n",
    "        print(\"No Data Found for name\")\n",
    "        names.append('NaN')\n",
    "    try:\n",
    "        Color = t.find_element_by_xpath('//*[@id=\"container\"]/div/div[3]/div[1]/div[2]/div[9]/div/div/div[5]/div/div[2]/div/div[1]/table/tbody/tr[4]/td[2]/ul/li').text\n",
    "        color.append(Color)\n",
    "    except Exception as e:\n",
    "        print('No Data Found for color')\n",
    "        color.append('NaN')\n",
    "    try:\n",
    "        internal= driver.find_element_by_xpath('//*[@id=\"container\"]/div/div[3]/div[1]/div[2]/div[10]/div[4]/div/div[2]/div[1]/div[4]/table/tbody/tr[1]/td[2]/ul/li').text\n",
    "        internalStorage.append(internal)\n",
    "    except Exception as e:\n",
    "        print('No Data Found for internalStorage')\n",
    "        internalStorage.append('NaN')\n",
    "    try:\n",
    "        display = driver.find_element_by_xpath('//*[@id=\"container\"]/div/div[3]/div[1]/div[2]/div[10]/div[4]/div/div[2]/div[1]/div[2]/table/tbody/tr[1]/td[2]/ul/li').text\n",
    "        displaySize.append(display)\n",
    "    except Exception as e:\n",
    "        print('No Data Found for displaySize')\n",
    "        displaySize.append('NaN')\n",
    "    try:\n",
    "        Battery = driver.find_element_by_xpath('//*[@id=\"container\"]/div/div[3]/div[1]/div[2]/div[10]/div[4]/div/div[2]/div[1]/div[8]/table/tbody/tr/td[2]/ul/li').text\n",
    "        battery.append(Battery)\n",
    "    except Exception as e:\n",
    "        print('No Data Found for battery')\n",
    "        battery.append('NaN')\n",
    "    try:\n",
    "        prices = driver.find_element_by_xpath('//*[@id=\"container\"]/div/div[3]/div[1]/div[2]/div[3]/div/div[4]/div[1]/div/div[1]').text\n",
    "        price.append(prices)\n",
    "    except Exception as e:\n",
    "        print('No Data Found for price')\n",
    "        price.append('NaN')"
   ]
  },
  {
   "cell_type": "code",
   "execution_count": null,
   "id": "2f486e37",
   "metadata": {},
   "outputs": [],
   "source": [
    "names"
   ]
  },
  {
   "cell_type": "code",
   "execution_count": null,
   "id": "e45d41ba",
   "metadata": {},
   "outputs": [],
   "source": [
    "price"
   ]
  },
  {
   "cell_type": "code",
   "execution_count": null,
   "id": "27b78beb",
   "metadata": {},
   "outputs": [],
   "source": [
    "ram"
   ]
  },
  {
   "cell_type": "code",
   "execution_count": null,
   "id": "50ef56d1",
   "metadata": {},
   "outputs": [],
   "source": [
    "import numpy as np\n",
    "import pandas as pd"
   ]
  },
  {
   "cell_type": "code",
   "execution_count": null,
   "id": "cad3b1ef",
   "metadata": {},
   "outputs": [],
   "source": [
    "price=[]\n",
    "for i in range(24):\n",
    "    driver.get(listofLinks[i])\n",
    "    try:\n",
    "        p=driver.find_element_by_xpath('//*[@id=\"container\"]/div/div[3]/div[1]/div[2]/div[2]/div/div[4]/div[1]/div/div[1]').text\n",
    "        price.append(p)\n",
    "    except:\n",
    "        p=driver.find_element_by_xpath('//*[@id=\"container\"]/div/div[3]/div[1]/div[2]/div[2]/div/div[3]/div[1]/div/div').text\n",
    "        price.append(p)"
   ]
  },
  {
   "cell_type": "code",
   "execution_count": null,
   "id": "0d66cc5a",
   "metadata": {},
   "outputs": [],
   "source": [
    "price"
   ]
  },
  {
   "cell_type": "code",
   "execution_count": null,
   "id": "84ac6bac",
   "metadata": {},
   "outputs": [],
   "source": [
    "driver=webdriver.Chrome(executable_path=Driver_path)"
   ]
  },
  {
   "cell_type": "code",
   "execution_count": null,
   "id": "4ba5e990",
   "metadata": {},
   "outputs": [],
   "source": []
  },
  {
   "cell_type": "code",
   "execution_count": null,
   "id": "cfc4f5ec",
   "metadata": {},
   "outputs": [],
   "source": [
    "[-3].text.split('\\n')[1]"
   ]
  },
  {
   "cell_type": "code",
   "execution_count": null,
   "id": "ed7d9609",
   "metadata": {},
   "outputs": [],
   "source": [
    "driver.get('https://www.flipkart.com/infinix-hot-10-play-aegean-blue-32-gb/p/itm1f660c8716944?pid=MOBG4ZY7SH3EZYZZ&lid=LSTMOBG4ZY7SH3EZYZZWYFD17&marketplace=FLIPKART&q=mobiles&store=tyy%2F4io&srno=s_1_24&otracker=AS_Query_TrendingAutoSuggest_1_0_na_na_na&otracker1=AS_Query_TrendingAutoSuggest_1_0_na_na_na&iid=84deeed6-259e-44d2-b9c0-3a440745abe0.MOBG4ZY7SH3EZYZZ.SEARCH&ssid=wib0dix9yo0000001646647108994&qH=eb4af0bf07c16429')"
   ]
  },
  {
   "cell_type": "code",
   "execution_count": null,
   "id": "2f7c210e",
   "metadata": {},
   "outputs": [],
   "source": [
    "tags=driver.find_elements_by_tag_name('tr')"
   ]
  },
  {
   "cell_type": "code",
   "execution_count": null,
   "id": "9fae0280",
   "metadata": {},
   "outputs": [],
   "source": [
    "train=driver.find_elements_by_class_name('_14cfVK')"
   ]
  },
  {
   "cell_type": "code",
   "execution_count": null,
   "id": "e84f74fe",
   "metadata": {},
   "outputs": [],
   "source": [
    " try:\n",
    "        driver.get(listofLinks[i])\n",
    "        print(i)\n",
    "        driver.find_element_by_css_selector('#container > div > div._2c7YLP.UtUXW0._6t1WkM._3HqJxg > div._1YokD2._2GoDe3 > div._1YokD2._3Mn1Gg.col-8-12 > div._1YokD2._3Mn1Gg > div:nth-child(4) > div > div:nth-child(2) > button').click()\n",
    "    except NoSuchElementException:\n",
    "        driver.find_element_by_css_selector('#container > div > div._2c7YLP.UtUXW0._6t1WkM._3HqJxg > div._1YokD2._2GoDe3 > div._1YokD2._3Mn1Gg.col-8-12 > div._1YokD2._3Mn1Gg > div:nth-child(5) > div > div:nth-child(2) > button').click()\n",
    "    except:\n",
    "        driver.find_element_by_css_selector('#container > div > div._2c7YLP.UtUXW0._6t1WkM._3HqJxg > div._1YokD2._2GoDe3 > div._1YokD2._3Mn1Gg.col-8-12 > div._1YokD2._3Mn1Gg > div > div > div:nth-child(5) > div > div:nth-child(2) > button').click()"
   ]
  },
  {
   "cell_type": "code",
   "execution_count": null,
   "id": "58b391a2",
   "metadata": {},
   "outputs": [],
   "source": []
  },
  {
   "cell_type": "code",
   "execution_count": null,
   "id": "2008fc60",
   "metadata": {},
   "outputs": [],
   "source": [
    "tags[-7].text"
   ]
  },
  {
   "cell_type": "code",
   "execution_count": null,
   "id": "350c119b",
   "metadata": {},
   "outputs": [],
   "source": [
    "tags[10].text"
   ]
  },
  {
   "cell_type": "code",
   "execution_count": null,
   "id": "f75c5de7",
   "metadata": {},
   "outputs": [],
   "source": [
    "tags[21].text"
   ]
  },
  {
   "cell_type": "code",
   "execution_count": null,
   "id": "e647ff49",
   "metadata": {},
   "outputs": [],
   "source": [
    "_1s_Smc row"
   ]
  },
  {
   "cell_type": "code",
   "execution_count": null,
   "id": "64a45096",
   "metadata": {},
   "outputs": [],
   "source": [
    "listofLinks[3]"
   ]
  },
  {
   "cell_type": "code",
   "execution_count": null,
   "id": "475705f4",
   "metadata": {},
   "outputs": [],
   "source": [
    "for l in range(-1,-10,-1):\n",
    "    try:\n",
    "        m=tags[l].text\n",
    "        print(m)\n",
    "        if m=='Battery Capacity':\n",
    "            battery.append(n)\n",
    "    except:\n",
    "        print(20)\n",
    "        pass"
   ]
  },
  {
   "cell_type": "code",
   "execution_count": null,
   "id": "b4bfa424",
   "metadata": {},
   "outputs": [],
   "source": [
    "you=driver.find_element_by_tag_name('td')"
   ]
  },
  {
   "cell_type": "code",
   "execution_count": null,
   "id": "f9a88279",
   "metadata": {},
   "outputs": [],
   "source": [
    "you.text"
   ]
  },
  {
   "cell_type": "code",
   "execution_count": null,
   "id": "1d1ca398",
   "metadata": {},
   "outputs": [],
   "source": [
    "you1=driver.find_element_by_tag_name('div')"
   ]
  },
  {
   "cell_type": "code",
   "execution_count": null,
   "id": "fdfe7c45",
   "metadata": {},
   "outputs": [],
   "source": [
    "driver.find_element_by_link_text('')"
   ]
  },
  {
   "cell_type": "code",
   "execution_count": null,
   "id": "7a542cee",
   "metadata": {},
   "outputs": [],
   "source": []
  }
 ],
 "metadata": {
  "kernelspec": {
   "display_name": "Python 3 (ipykernel)",
   "language": "python",
   "name": "python3"
  },
  "language_info": {
   "codemirror_mode": {
    "name": "ipython",
    "version": 3
   },
   "file_extension": ".py",
   "mimetype": "text/x-python",
   "name": "python",
   "nbconvert_exporter": "python",
   "pygments_lexer": "ipython3",
   "version": "3.9.2"
  }
 },
 "nbformat": 4,
 "nbformat_minor": 5
}
